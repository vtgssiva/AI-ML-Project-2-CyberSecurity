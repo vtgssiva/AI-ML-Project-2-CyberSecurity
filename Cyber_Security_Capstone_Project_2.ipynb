{
  "nbformat": 4,
  "nbformat_minor": 0,
  "metadata": {
    "colab": {
      "provenance": [],
      "toc_visible": true,
      "authorship_tag": "ABX9TyOZQwxd7SyPQWi2WusBe1Or",
      "include_colab_link": true
    },
    "kernelspec": {
      "name": "python3",
      "display_name": "Python 3"
    },
    "language_info": {
      "name": "python"
    }
  },
  "cells": [
    {
      "cell_type": "markdown",
      "metadata": {
        "id": "view-in-github",
        "colab_type": "text"
      },
      "source": [
        "<a href=\"https://colab.research.google.com/github/vtgssiva/AI-ML-Project-2-CyberSecurity/blob/main/Cyber_Security_Capstone_Project_2.ipynb\" target=\"_parent\"><img src=\"https://colab.research.google.com/assets/colab-badge.svg\" alt=\"Open In Colab\"/></a>"
      ]
    },
    {
      "cell_type": "markdown",
      "source": [
        "# **Internet - Cyber Security Breach Detection**\n",
        "\n"
      ],
      "metadata": {
        "id": "atWQU1mNTYil"
      }
    },
    {
      "cell_type": "markdown",
      "source": [
        "## Exploratory Data Analysis"
      ],
      "metadata": {
        "id": "4rEkiizEYpJp"
      }
    },
    {
      "cell_type": "markdown",
      "source": [
        "Import Libraries"
      ],
      "metadata": {
        "id": "gSdgHbyKTmGH"
      }
    },
    {
      "cell_type": "code",
      "source": [
        "import numpy as np\n",
        "import pandas as pd\n",
        "\n",
        "import matplotlib.pyplot as plt\n",
        "import matplotlib\n",
        "%matplotlib inline\n",
        "\n",
        "import warnings\n",
        "warnings.filterwarnings('ignore')\n",
        "\n",
        "import matplotlib.pyplot as plt\n",
        "import seaborn as sns"
      ],
      "metadata": {
        "id": "4e6xvXtLTnDd"
      },
      "execution_count": 86,
      "outputs": []
    },
    {
      "cell_type": "markdown",
      "source": [
        "Google mount"
      ],
      "metadata": {
        "id": "jeLxAHzvTrXV"
      }
    },
    {
      "cell_type": "code",
      "source": [
        "from google.colab import drive\n",
        "drive.mount('/content/drive')"
      ],
      "metadata": {
        "colab": {
          "base_uri": "https://localhost:8080/"
        },
        "id": "ea1S0DWxTrw3",
        "outputId": "904702e5-021b-4be8-d7a2-94aafa69fb50"
      },
      "execution_count": 18,
      "outputs": [
        {
          "output_type": "stream",
          "name": "stdout",
          "text": [
            "Drive already mounted at /content/drive; to attempt to forcibly remount, call drive.mount(\"/content/drive\", force_remount=True).\n"
          ]
        }
      ]
    },
    {
      "cell_type": "markdown",
      "source": [
        "### Dataset Details"
      ],
      "metadata": {
        "id": "O3QchIxQTyLD"
      }
    },
    {
      "cell_type": "markdown",
      "source": [
        "Dataset Load"
      ],
      "metadata": {
        "id": "LeHkb9quT4YB"
      }
    },
    {
      "cell_type": "code",
      "source": [
        "cybersecurity_data  = pd.read_csv(\"/content/drive/My Drive/Colab Notebooks/Dataset/CyberSecurity/dataset.csv\")\n",
        "\n",
        "cybersecurity_data.head()"
      ],
      "metadata": {
        "colab": {
          "base_uri": "https://localhost:8080/",
          "height": 300
        },
        "id": "hbbm1GoQT41A",
        "outputId": "806e02f3-531d-4171-d2ee-34f6a8abf79d"
      },
      "execution_count": 19,
      "outputs": [
        {
          "output_type": "execute_result",
          "data": {
            "text/plain": [
              "   index  having_IPhaving_IP_Address  URLURL_Length  Shortining_Service  \\\n",
              "0      1                          -1              1                   1   \n",
              "1      2                           1              1                   1   \n",
              "2      3                           1              0                   1   \n",
              "3      4                           1              0                   1   \n",
              "4      5                           1              0                  -1   \n",
              "\n",
              "   having_At_Symbol  double_slash_redirecting  Prefix_Suffix  \\\n",
              "0                 1                        -1             -1   \n",
              "1                 1                         1             -1   \n",
              "2                 1                         1             -1   \n",
              "3                 1                         1             -1   \n",
              "4                 1                         1             -1   \n",
              "\n",
              "   having_Sub_Domain  SSLfinal_State  Domain_registeration_length  ...  \\\n",
              "0                 -1              -1                           -1  ...   \n",
              "1                  0               1                           -1  ...   \n",
              "2                 -1              -1                           -1  ...   \n",
              "3                 -1              -1                            1  ...   \n",
              "4                  1               1                           -1  ...   \n",
              "\n",
              "   popUpWidnow  Iframe  age_of_domain  DNSRecord  web_traffic  Page_Rank  \\\n",
              "0            1       1             -1         -1           -1         -1   \n",
              "1            1       1             -1         -1            0         -1   \n",
              "2            1       1              1         -1            1         -1   \n",
              "3            1       1             -1         -1            1         -1   \n",
              "4           -1       1             -1         -1            0         -1   \n",
              "\n",
              "   Google_Index  Links_pointing_to_page  Statistical_report  Result  \n",
              "0             1                       1                  -1      -1  \n",
              "1             1                       1                   1      -1  \n",
              "2             1                       0                  -1      -1  \n",
              "3             1                      -1                   1      -1  \n",
              "4             1                       1                   1       1  \n",
              "\n",
              "[5 rows x 32 columns]"
            ],
            "text/html": [
              "\n",
              "  <div id=\"df-de812407-72a7-4cf1-bce7-3cd6c99b70fb\">\n",
              "    <div class=\"colab-df-container\">\n",
              "      <div>\n",
              "<style scoped>\n",
              "    .dataframe tbody tr th:only-of-type {\n",
              "        vertical-align: middle;\n",
              "    }\n",
              "\n",
              "    .dataframe tbody tr th {\n",
              "        vertical-align: top;\n",
              "    }\n",
              "\n",
              "    .dataframe thead th {\n",
              "        text-align: right;\n",
              "    }\n",
              "</style>\n",
              "<table border=\"1\" class=\"dataframe\">\n",
              "  <thead>\n",
              "    <tr style=\"text-align: right;\">\n",
              "      <th></th>\n",
              "      <th>index</th>\n",
              "      <th>having_IPhaving_IP_Address</th>\n",
              "      <th>URLURL_Length</th>\n",
              "      <th>Shortining_Service</th>\n",
              "      <th>having_At_Symbol</th>\n",
              "      <th>double_slash_redirecting</th>\n",
              "      <th>Prefix_Suffix</th>\n",
              "      <th>having_Sub_Domain</th>\n",
              "      <th>SSLfinal_State</th>\n",
              "      <th>Domain_registeration_length</th>\n",
              "      <th>...</th>\n",
              "      <th>popUpWidnow</th>\n",
              "      <th>Iframe</th>\n",
              "      <th>age_of_domain</th>\n",
              "      <th>DNSRecord</th>\n",
              "      <th>web_traffic</th>\n",
              "      <th>Page_Rank</th>\n",
              "      <th>Google_Index</th>\n",
              "      <th>Links_pointing_to_page</th>\n",
              "      <th>Statistical_report</th>\n",
              "      <th>Result</th>\n",
              "    </tr>\n",
              "  </thead>\n",
              "  <tbody>\n",
              "    <tr>\n",
              "      <th>0</th>\n",
              "      <td>1</td>\n",
              "      <td>-1</td>\n",
              "      <td>1</td>\n",
              "      <td>1</td>\n",
              "      <td>1</td>\n",
              "      <td>-1</td>\n",
              "      <td>-1</td>\n",
              "      <td>-1</td>\n",
              "      <td>-1</td>\n",
              "      <td>-1</td>\n",
              "      <td>...</td>\n",
              "      <td>1</td>\n",
              "      <td>1</td>\n",
              "      <td>-1</td>\n",
              "      <td>-1</td>\n",
              "      <td>-1</td>\n",
              "      <td>-1</td>\n",
              "      <td>1</td>\n",
              "      <td>1</td>\n",
              "      <td>-1</td>\n",
              "      <td>-1</td>\n",
              "    </tr>\n",
              "    <tr>\n",
              "      <th>1</th>\n",
              "      <td>2</td>\n",
              "      <td>1</td>\n",
              "      <td>1</td>\n",
              "      <td>1</td>\n",
              "      <td>1</td>\n",
              "      <td>1</td>\n",
              "      <td>-1</td>\n",
              "      <td>0</td>\n",
              "      <td>1</td>\n",
              "      <td>-1</td>\n",
              "      <td>...</td>\n",
              "      <td>1</td>\n",
              "      <td>1</td>\n",
              "      <td>-1</td>\n",
              "      <td>-1</td>\n",
              "      <td>0</td>\n",
              "      <td>-1</td>\n",
              "      <td>1</td>\n",
              "      <td>1</td>\n",
              "      <td>1</td>\n",
              "      <td>-1</td>\n",
              "    </tr>\n",
              "    <tr>\n",
              "      <th>2</th>\n",
              "      <td>3</td>\n",
              "      <td>1</td>\n",
              "      <td>0</td>\n",
              "      <td>1</td>\n",
              "      <td>1</td>\n",
              "      <td>1</td>\n",
              "      <td>-1</td>\n",
              "      <td>-1</td>\n",
              "      <td>-1</td>\n",
              "      <td>-1</td>\n",
              "      <td>...</td>\n",
              "      <td>1</td>\n",
              "      <td>1</td>\n",
              "      <td>1</td>\n",
              "      <td>-1</td>\n",
              "      <td>1</td>\n",
              "      <td>-1</td>\n",
              "      <td>1</td>\n",
              "      <td>0</td>\n",
              "      <td>-1</td>\n",
              "      <td>-1</td>\n",
              "    </tr>\n",
              "    <tr>\n",
              "      <th>3</th>\n",
              "      <td>4</td>\n",
              "      <td>1</td>\n",
              "      <td>0</td>\n",
              "      <td>1</td>\n",
              "      <td>1</td>\n",
              "      <td>1</td>\n",
              "      <td>-1</td>\n",
              "      <td>-1</td>\n",
              "      <td>-1</td>\n",
              "      <td>1</td>\n",
              "      <td>...</td>\n",
              "      <td>1</td>\n",
              "      <td>1</td>\n",
              "      <td>-1</td>\n",
              "      <td>-1</td>\n",
              "      <td>1</td>\n",
              "      <td>-1</td>\n",
              "      <td>1</td>\n",
              "      <td>-1</td>\n",
              "      <td>1</td>\n",
              "      <td>-1</td>\n",
              "    </tr>\n",
              "    <tr>\n",
              "      <th>4</th>\n",
              "      <td>5</td>\n",
              "      <td>1</td>\n",
              "      <td>0</td>\n",
              "      <td>-1</td>\n",
              "      <td>1</td>\n",
              "      <td>1</td>\n",
              "      <td>-1</td>\n",
              "      <td>1</td>\n",
              "      <td>1</td>\n",
              "      <td>-1</td>\n",
              "      <td>...</td>\n",
              "      <td>-1</td>\n",
              "      <td>1</td>\n",
              "      <td>-1</td>\n",
              "      <td>-1</td>\n",
              "      <td>0</td>\n",
              "      <td>-1</td>\n",
              "      <td>1</td>\n",
              "      <td>1</td>\n",
              "      <td>1</td>\n",
              "      <td>1</td>\n",
              "    </tr>\n",
              "  </tbody>\n",
              "</table>\n",
              "<p>5 rows × 32 columns</p>\n",
              "</div>\n",
              "      <button class=\"colab-df-convert\" onclick=\"convertToInteractive('df-de812407-72a7-4cf1-bce7-3cd6c99b70fb')\"\n",
              "              title=\"Convert this dataframe to an interactive table.\"\n",
              "              style=\"display:none;\">\n",
              "        \n",
              "  <svg xmlns=\"http://www.w3.org/2000/svg\" height=\"24px\"viewBox=\"0 0 24 24\"\n",
              "       width=\"24px\">\n",
              "    <path d=\"M0 0h24v24H0V0z\" fill=\"none\"/>\n",
              "    <path d=\"M18.56 5.44l.94 2.06.94-2.06 2.06-.94-2.06-.94-.94-2.06-.94 2.06-2.06.94zm-11 1L8.5 8.5l.94-2.06 2.06-.94-2.06-.94L8.5 2.5l-.94 2.06-2.06.94zm10 10l.94 2.06.94-2.06 2.06-.94-2.06-.94-.94-2.06-.94 2.06-2.06.94z\"/><path d=\"M17.41 7.96l-1.37-1.37c-.4-.4-.92-.59-1.43-.59-.52 0-1.04.2-1.43.59L10.3 9.45l-7.72 7.72c-.78.78-.78 2.05 0 2.83L4 21.41c.39.39.9.59 1.41.59.51 0 1.02-.2 1.41-.59l7.78-7.78 2.81-2.81c.8-.78.8-2.07 0-2.86zM5.41 20L4 18.59l7.72-7.72 1.47 1.35L5.41 20z\"/>\n",
              "  </svg>\n",
              "      </button>\n",
              "      \n",
              "  <style>\n",
              "    .colab-df-container {\n",
              "      display:flex;\n",
              "      flex-wrap:wrap;\n",
              "      gap: 12px;\n",
              "    }\n",
              "\n",
              "    .colab-df-convert {\n",
              "      background-color: #E8F0FE;\n",
              "      border: none;\n",
              "      border-radius: 50%;\n",
              "      cursor: pointer;\n",
              "      display: none;\n",
              "      fill: #1967D2;\n",
              "      height: 32px;\n",
              "      padding: 0 0 0 0;\n",
              "      width: 32px;\n",
              "    }\n",
              "\n",
              "    .colab-df-convert:hover {\n",
              "      background-color: #E2EBFA;\n",
              "      box-shadow: 0px 1px 2px rgba(60, 64, 67, 0.3), 0px 1px 3px 1px rgba(60, 64, 67, 0.15);\n",
              "      fill: #174EA6;\n",
              "    }\n",
              "\n",
              "    [theme=dark] .colab-df-convert {\n",
              "      background-color: #3B4455;\n",
              "      fill: #D2E3FC;\n",
              "    }\n",
              "\n",
              "    [theme=dark] .colab-df-convert:hover {\n",
              "      background-color: #434B5C;\n",
              "      box-shadow: 0px 1px 3px 1px rgba(0, 0, 0, 0.15);\n",
              "      filter: drop-shadow(0px 1px 2px rgba(0, 0, 0, 0.3));\n",
              "      fill: #FFFFFF;\n",
              "    }\n",
              "  </style>\n",
              "\n",
              "      <script>\n",
              "        const buttonEl =\n",
              "          document.querySelector('#df-de812407-72a7-4cf1-bce7-3cd6c99b70fb button.colab-df-convert');\n",
              "        buttonEl.style.display =\n",
              "          google.colab.kernel.accessAllowed ? 'block' : 'none';\n",
              "\n",
              "        async function convertToInteractive(key) {\n",
              "          const element = document.querySelector('#df-de812407-72a7-4cf1-bce7-3cd6c99b70fb');\n",
              "          const dataTable =\n",
              "            await google.colab.kernel.invokeFunction('convertToInteractive',\n",
              "                                                     [key], {});\n",
              "          if (!dataTable) return;\n",
              "\n",
              "          const docLinkHtml = 'Like what you see? Visit the ' +\n",
              "            '<a target=\"_blank\" href=https://colab.research.google.com/notebooks/data_table.ipynb>data table notebook</a>'\n",
              "            + ' to learn more about interactive tables.';\n",
              "          element.innerHTML = '';\n",
              "          dataTable['output_type'] = 'display_data';\n",
              "          await google.colab.output.renderOutput(dataTable, element);\n",
              "          const docLink = document.createElement('div');\n",
              "          docLink.innerHTML = docLinkHtml;\n",
              "          element.appendChild(docLink);\n",
              "        }\n",
              "      </script>\n",
              "    </div>\n",
              "  </div>\n",
              "  "
            ]
          },
          "metadata": {},
          "execution_count": 19
        }
      ]
    },
    {
      "cell_type": "code",
      "source": [
        "cybersecurity_data.shape"
      ],
      "metadata": {
        "colab": {
          "base_uri": "https://localhost:8080/"
        },
        "id": "8wTVu96VU2R9",
        "outputId": "277d2b90-557d-49a4-b5a4-7f7c331a458d"
      },
      "execution_count": 20,
      "outputs": [
        {
          "output_type": "execute_result",
          "data": {
            "text/plain": [
              "(11055, 32)"
            ]
          },
          "metadata": {},
          "execution_count": 20
        }
      ]
    },
    {
      "cell_type": "code",
      "source": [
        "cybersecurity_data.info"
      ],
      "metadata": {
        "colab": {
          "base_uri": "https://localhost:8080/"
        },
        "id": "3AgJmpclU36-",
        "outputId": "05b09be3-eddd-46b9-b555-c98369555691"
      },
      "execution_count": 21,
      "outputs": [
        {
          "output_type": "execute_result",
          "data": {
            "text/plain": [
              "<bound method DataFrame.info of        index  having_IPhaving_IP_Address  URLURL_Length  Shortining_Service  \\\n",
              "0          1                          -1              1                   1   \n",
              "1          2                           1              1                   1   \n",
              "2          3                           1              0                   1   \n",
              "3          4                           1              0                   1   \n",
              "4          5                           1              0                  -1   \n",
              "...      ...                         ...            ...                 ...   \n",
              "11050  11051                           1             -1                   1   \n",
              "11051  11052                          -1              1                   1   \n",
              "11052  11053                           1             -1                   1   \n",
              "11053  11054                          -1             -1                   1   \n",
              "11054  11055                          -1             -1                   1   \n",
              "\n",
              "       having_At_Symbol  double_slash_redirecting  Prefix_Suffix  \\\n",
              "0                     1                        -1             -1   \n",
              "1                     1                         1             -1   \n",
              "2                     1                         1             -1   \n",
              "3                     1                         1             -1   \n",
              "4                     1                         1             -1   \n",
              "...                 ...                       ...            ...   \n",
              "11050                -1                         1              1   \n",
              "11051                -1                        -1             -1   \n",
              "11052                 1                         1             -1   \n",
              "11053                 1                         1             -1   \n",
              "11054                 1                         1             -1   \n",
              "\n",
              "       having_Sub_Domain  SSLfinal_State  Domain_registeration_length  ...  \\\n",
              "0                     -1              -1                           -1  ...   \n",
              "1                      0               1                           -1  ...   \n",
              "2                     -1              -1                           -1  ...   \n",
              "3                     -1              -1                            1  ...   \n",
              "4                      1               1                           -1  ...   \n",
              "...                  ...             ...                          ...  ...   \n",
              "11050                  1               1                           -1  ...   \n",
              "11051                  1              -1                           -1  ...   \n",
              "11052                  1              -1                           -1  ...   \n",
              "11053                 -1              -1                            1  ...   \n",
              "11054                 -1              -1                            1  ...   \n",
              "\n",
              "       popUpWidnow  Iframe  age_of_domain  DNSRecord  web_traffic  Page_Rank  \\\n",
              "0                1       1             -1         -1           -1         -1   \n",
              "1                1       1             -1         -1            0         -1   \n",
              "2                1       1              1         -1            1         -1   \n",
              "3                1       1             -1         -1            1         -1   \n",
              "4               -1       1             -1         -1            0         -1   \n",
              "...            ...     ...            ...        ...          ...        ...   \n",
              "11050           -1      -1              1          1           -1         -1   \n",
              "11051           -1       1              1          1            1          1   \n",
              "11052            1       1              1          1            1         -1   \n",
              "11053           -1       1              1          1            1         -1   \n",
              "11054            1       1             -1          1           -1         -1   \n",
              "\n",
              "       Google_Index  Links_pointing_to_page  Statistical_report  Result  \n",
              "0                 1                       1                  -1      -1  \n",
              "1                 1                       1                   1      -1  \n",
              "2                 1                       0                  -1      -1  \n",
              "3                 1                      -1                   1      -1  \n",
              "4                 1                       1                   1       1  \n",
              "...             ...                     ...                 ...     ...  \n",
              "11050             1                       1                   1       1  \n",
              "11051             1                      -1                   1      -1  \n",
              "11052             1                       0                   1      -1  \n",
              "11053             1                       1                   1      -1  \n",
              "11054            -1                       1                  -1      -1  \n",
              "\n",
              "[11055 rows x 32 columns]>"
            ]
          },
          "metadata": {},
          "execution_count": 21
        }
      ]
    },
    {
      "cell_type": "code",
      "source": [
        "cybersecurity_data.columns"
      ],
      "metadata": {
        "colab": {
          "base_uri": "https://localhost:8080/"
        },
        "id": "EFpyk4G7VAdY",
        "outputId": "06f934e5-a990-4b1f-c1df-4da05c2020cb"
      },
      "execution_count": 22,
      "outputs": [
        {
          "output_type": "execute_result",
          "data": {
            "text/plain": [
              "Index(['index', 'having_IPhaving_IP_Address', 'URLURL_Length',\n",
              "       'Shortining_Service', 'having_At_Symbol', 'double_slash_redirecting',\n",
              "       'Prefix_Suffix', 'having_Sub_Domain', 'SSLfinal_State',\n",
              "       'Domain_registeration_length', 'Favicon', 'port', 'HTTPS_token',\n",
              "       'Request_URL', 'URL_of_Anchor', 'Links_in_tags', 'SFH',\n",
              "       'Submitting_to_email', 'Abnormal_URL', 'Redirect', 'on_mouseover',\n",
              "       'RightClick', 'popUpWidnow', 'Iframe', 'age_of_domain', 'DNSRecord',\n",
              "       'web_traffic', 'Page_Rank', 'Google_Index', 'Links_pointing_to_page',\n",
              "       'Statistical_report', 'Result'],\n",
              "      dtype='object')"
            ]
          },
          "metadata": {},
          "execution_count": 22
        }
      ]
    },
    {
      "cell_type": "code",
      "source": [
        "cybersecurity_data.describe()"
      ],
      "metadata": {
        "colab": {
          "base_uri": "https://localhost:8080/",
          "height": 394
        },
        "id": "XLoyJXqVVoNm",
        "outputId": "830f1041-9c50-4c88-a430-0bb29f8ade20"
      },
      "execution_count": 23,
      "outputs": [
        {
          "output_type": "execute_result",
          "data": {
            "text/plain": [
              "              index  having_IPhaving_IP_Address  URLURL_Length  \\\n",
              "count  11055.000000                11055.000000   11055.000000   \n",
              "mean    5528.000000                    0.313795      -0.633198   \n",
              "std     3191.447947                    0.949534       0.766095   \n",
              "min        1.000000                   -1.000000      -1.000000   \n",
              "25%     2764.500000                   -1.000000      -1.000000   \n",
              "50%     5528.000000                    1.000000      -1.000000   \n",
              "75%     8291.500000                    1.000000      -1.000000   \n",
              "max    11055.000000                    1.000000       1.000000   \n",
              "\n",
              "       Shortining_Service  having_At_Symbol  double_slash_redirecting  \\\n",
              "count        11055.000000      11055.000000              11055.000000   \n",
              "mean             0.738761          0.700588                  0.741474   \n",
              "std              0.673998          0.713598                  0.671011   \n",
              "min             -1.000000         -1.000000                 -1.000000   \n",
              "25%              1.000000          1.000000                  1.000000   \n",
              "50%              1.000000          1.000000                  1.000000   \n",
              "75%              1.000000          1.000000                  1.000000   \n",
              "max              1.000000          1.000000                  1.000000   \n",
              "\n",
              "       Prefix_Suffix  having_Sub_Domain  SSLfinal_State  \\\n",
              "count   11055.000000       11055.000000    11055.000000   \n",
              "mean       -0.734962           0.063953        0.250927   \n",
              "std         0.678139           0.817518        0.911892   \n",
              "min        -1.000000          -1.000000       -1.000000   \n",
              "25%        -1.000000          -1.000000       -1.000000   \n",
              "50%        -1.000000           0.000000        1.000000   \n",
              "75%        -1.000000           1.000000        1.000000   \n",
              "max         1.000000           1.000000        1.000000   \n",
              "\n",
              "       Domain_registeration_length  ...   popUpWidnow        Iframe  \\\n",
              "count                 11055.000000  ...  11055.000000  11055.000000   \n",
              "mean                     -0.336771  ...      0.613388      0.816915   \n",
              "std                       0.941629  ...      0.789818      0.576784   \n",
              "min                      -1.000000  ...     -1.000000     -1.000000   \n",
              "25%                      -1.000000  ...      1.000000      1.000000   \n",
              "50%                      -1.000000  ...      1.000000      1.000000   \n",
              "75%                       1.000000  ...      1.000000      1.000000   \n",
              "max                       1.000000  ...      1.000000      1.000000   \n",
              "\n",
              "       age_of_domain     DNSRecord   web_traffic     Page_Rank  Google_Index  \\\n",
              "count   11055.000000  11055.000000  11055.000000  11055.000000  11055.000000   \n",
              "mean        0.061239      0.377114      0.287291     -0.483673      0.721574   \n",
              "std         0.998168      0.926209      0.827733      0.875289      0.692369   \n",
              "min        -1.000000     -1.000000     -1.000000     -1.000000     -1.000000   \n",
              "25%        -1.000000     -1.000000      0.000000     -1.000000      1.000000   \n",
              "50%         1.000000      1.000000      1.000000     -1.000000      1.000000   \n",
              "75%         1.000000      1.000000      1.000000      1.000000      1.000000   \n",
              "max         1.000000      1.000000      1.000000      1.000000      1.000000   \n",
              "\n",
              "       Links_pointing_to_page  Statistical_report        Result  \n",
              "count            11055.000000        11055.000000  11055.000000  \n",
              "mean                 0.344007            0.719584      0.113885  \n",
              "std                  0.569944            0.694437      0.993539  \n",
              "min                 -1.000000           -1.000000     -1.000000  \n",
              "25%                  0.000000            1.000000     -1.000000  \n",
              "50%                  0.000000            1.000000      1.000000  \n",
              "75%                  1.000000            1.000000      1.000000  \n",
              "max                  1.000000            1.000000      1.000000  \n",
              "\n",
              "[8 rows x 32 columns]"
            ],
            "text/html": [
              "\n",
              "  <div id=\"df-35fa12e8-6970-43b3-af6e-3a40851f53a0\">\n",
              "    <div class=\"colab-df-container\">\n",
              "      <div>\n",
              "<style scoped>\n",
              "    .dataframe tbody tr th:only-of-type {\n",
              "        vertical-align: middle;\n",
              "    }\n",
              "\n",
              "    .dataframe tbody tr th {\n",
              "        vertical-align: top;\n",
              "    }\n",
              "\n",
              "    .dataframe thead th {\n",
              "        text-align: right;\n",
              "    }\n",
              "</style>\n",
              "<table border=\"1\" class=\"dataframe\">\n",
              "  <thead>\n",
              "    <tr style=\"text-align: right;\">\n",
              "      <th></th>\n",
              "      <th>index</th>\n",
              "      <th>having_IPhaving_IP_Address</th>\n",
              "      <th>URLURL_Length</th>\n",
              "      <th>Shortining_Service</th>\n",
              "      <th>having_At_Symbol</th>\n",
              "      <th>double_slash_redirecting</th>\n",
              "      <th>Prefix_Suffix</th>\n",
              "      <th>having_Sub_Domain</th>\n",
              "      <th>SSLfinal_State</th>\n",
              "      <th>Domain_registeration_length</th>\n",
              "      <th>...</th>\n",
              "      <th>popUpWidnow</th>\n",
              "      <th>Iframe</th>\n",
              "      <th>age_of_domain</th>\n",
              "      <th>DNSRecord</th>\n",
              "      <th>web_traffic</th>\n",
              "      <th>Page_Rank</th>\n",
              "      <th>Google_Index</th>\n",
              "      <th>Links_pointing_to_page</th>\n",
              "      <th>Statistical_report</th>\n",
              "      <th>Result</th>\n",
              "    </tr>\n",
              "  </thead>\n",
              "  <tbody>\n",
              "    <tr>\n",
              "      <th>count</th>\n",
              "      <td>11055.000000</td>\n",
              "      <td>11055.000000</td>\n",
              "      <td>11055.000000</td>\n",
              "      <td>11055.000000</td>\n",
              "      <td>11055.000000</td>\n",
              "      <td>11055.000000</td>\n",
              "      <td>11055.000000</td>\n",
              "      <td>11055.000000</td>\n",
              "      <td>11055.000000</td>\n",
              "      <td>11055.000000</td>\n",
              "      <td>...</td>\n",
              "      <td>11055.000000</td>\n",
              "      <td>11055.000000</td>\n",
              "      <td>11055.000000</td>\n",
              "      <td>11055.000000</td>\n",
              "      <td>11055.000000</td>\n",
              "      <td>11055.000000</td>\n",
              "      <td>11055.000000</td>\n",
              "      <td>11055.000000</td>\n",
              "      <td>11055.000000</td>\n",
              "      <td>11055.000000</td>\n",
              "    </tr>\n",
              "    <tr>\n",
              "      <th>mean</th>\n",
              "      <td>5528.000000</td>\n",
              "      <td>0.313795</td>\n",
              "      <td>-0.633198</td>\n",
              "      <td>0.738761</td>\n",
              "      <td>0.700588</td>\n",
              "      <td>0.741474</td>\n",
              "      <td>-0.734962</td>\n",
              "      <td>0.063953</td>\n",
              "      <td>0.250927</td>\n",
              "      <td>-0.336771</td>\n",
              "      <td>...</td>\n",
              "      <td>0.613388</td>\n",
              "      <td>0.816915</td>\n",
              "      <td>0.061239</td>\n",
              "      <td>0.377114</td>\n",
              "      <td>0.287291</td>\n",
              "      <td>-0.483673</td>\n",
              "      <td>0.721574</td>\n",
              "      <td>0.344007</td>\n",
              "      <td>0.719584</td>\n",
              "      <td>0.113885</td>\n",
              "    </tr>\n",
              "    <tr>\n",
              "      <th>std</th>\n",
              "      <td>3191.447947</td>\n",
              "      <td>0.949534</td>\n",
              "      <td>0.766095</td>\n",
              "      <td>0.673998</td>\n",
              "      <td>0.713598</td>\n",
              "      <td>0.671011</td>\n",
              "      <td>0.678139</td>\n",
              "      <td>0.817518</td>\n",
              "      <td>0.911892</td>\n",
              "      <td>0.941629</td>\n",
              "      <td>...</td>\n",
              "      <td>0.789818</td>\n",
              "      <td>0.576784</td>\n",
              "      <td>0.998168</td>\n",
              "      <td>0.926209</td>\n",
              "      <td>0.827733</td>\n",
              "      <td>0.875289</td>\n",
              "      <td>0.692369</td>\n",
              "      <td>0.569944</td>\n",
              "      <td>0.694437</td>\n",
              "      <td>0.993539</td>\n",
              "    </tr>\n",
              "    <tr>\n",
              "      <th>min</th>\n",
              "      <td>1.000000</td>\n",
              "      <td>-1.000000</td>\n",
              "      <td>-1.000000</td>\n",
              "      <td>-1.000000</td>\n",
              "      <td>-1.000000</td>\n",
              "      <td>-1.000000</td>\n",
              "      <td>-1.000000</td>\n",
              "      <td>-1.000000</td>\n",
              "      <td>-1.000000</td>\n",
              "      <td>-1.000000</td>\n",
              "      <td>...</td>\n",
              "      <td>-1.000000</td>\n",
              "      <td>-1.000000</td>\n",
              "      <td>-1.000000</td>\n",
              "      <td>-1.000000</td>\n",
              "      <td>-1.000000</td>\n",
              "      <td>-1.000000</td>\n",
              "      <td>-1.000000</td>\n",
              "      <td>-1.000000</td>\n",
              "      <td>-1.000000</td>\n",
              "      <td>-1.000000</td>\n",
              "    </tr>\n",
              "    <tr>\n",
              "      <th>25%</th>\n",
              "      <td>2764.500000</td>\n",
              "      <td>-1.000000</td>\n",
              "      <td>-1.000000</td>\n",
              "      <td>1.000000</td>\n",
              "      <td>1.000000</td>\n",
              "      <td>1.000000</td>\n",
              "      <td>-1.000000</td>\n",
              "      <td>-1.000000</td>\n",
              "      <td>-1.000000</td>\n",
              "      <td>-1.000000</td>\n",
              "      <td>...</td>\n",
              "      <td>1.000000</td>\n",
              "      <td>1.000000</td>\n",
              "      <td>-1.000000</td>\n",
              "      <td>-1.000000</td>\n",
              "      <td>0.000000</td>\n",
              "      <td>-1.000000</td>\n",
              "      <td>1.000000</td>\n",
              "      <td>0.000000</td>\n",
              "      <td>1.000000</td>\n",
              "      <td>-1.000000</td>\n",
              "    </tr>\n",
              "    <tr>\n",
              "      <th>50%</th>\n",
              "      <td>5528.000000</td>\n",
              "      <td>1.000000</td>\n",
              "      <td>-1.000000</td>\n",
              "      <td>1.000000</td>\n",
              "      <td>1.000000</td>\n",
              "      <td>1.000000</td>\n",
              "      <td>-1.000000</td>\n",
              "      <td>0.000000</td>\n",
              "      <td>1.000000</td>\n",
              "      <td>-1.000000</td>\n",
              "      <td>...</td>\n",
              "      <td>1.000000</td>\n",
              "      <td>1.000000</td>\n",
              "      <td>1.000000</td>\n",
              "      <td>1.000000</td>\n",
              "      <td>1.000000</td>\n",
              "      <td>-1.000000</td>\n",
              "      <td>1.000000</td>\n",
              "      <td>0.000000</td>\n",
              "      <td>1.000000</td>\n",
              "      <td>1.000000</td>\n",
              "    </tr>\n",
              "    <tr>\n",
              "      <th>75%</th>\n",
              "      <td>8291.500000</td>\n",
              "      <td>1.000000</td>\n",
              "      <td>-1.000000</td>\n",
              "      <td>1.000000</td>\n",
              "      <td>1.000000</td>\n",
              "      <td>1.000000</td>\n",
              "      <td>-1.000000</td>\n",
              "      <td>1.000000</td>\n",
              "      <td>1.000000</td>\n",
              "      <td>1.000000</td>\n",
              "      <td>...</td>\n",
              "      <td>1.000000</td>\n",
              "      <td>1.000000</td>\n",
              "      <td>1.000000</td>\n",
              "      <td>1.000000</td>\n",
              "      <td>1.000000</td>\n",
              "      <td>1.000000</td>\n",
              "      <td>1.000000</td>\n",
              "      <td>1.000000</td>\n",
              "      <td>1.000000</td>\n",
              "      <td>1.000000</td>\n",
              "    </tr>\n",
              "    <tr>\n",
              "      <th>max</th>\n",
              "      <td>11055.000000</td>\n",
              "      <td>1.000000</td>\n",
              "      <td>1.000000</td>\n",
              "      <td>1.000000</td>\n",
              "      <td>1.000000</td>\n",
              "      <td>1.000000</td>\n",
              "      <td>1.000000</td>\n",
              "      <td>1.000000</td>\n",
              "      <td>1.000000</td>\n",
              "      <td>1.000000</td>\n",
              "      <td>...</td>\n",
              "      <td>1.000000</td>\n",
              "      <td>1.000000</td>\n",
              "      <td>1.000000</td>\n",
              "      <td>1.000000</td>\n",
              "      <td>1.000000</td>\n",
              "      <td>1.000000</td>\n",
              "      <td>1.000000</td>\n",
              "      <td>1.000000</td>\n",
              "      <td>1.000000</td>\n",
              "      <td>1.000000</td>\n",
              "    </tr>\n",
              "  </tbody>\n",
              "</table>\n",
              "<p>8 rows × 32 columns</p>\n",
              "</div>\n",
              "      <button class=\"colab-df-convert\" onclick=\"convertToInteractive('df-35fa12e8-6970-43b3-af6e-3a40851f53a0')\"\n",
              "              title=\"Convert this dataframe to an interactive table.\"\n",
              "              style=\"display:none;\">\n",
              "        \n",
              "  <svg xmlns=\"http://www.w3.org/2000/svg\" height=\"24px\"viewBox=\"0 0 24 24\"\n",
              "       width=\"24px\">\n",
              "    <path d=\"M0 0h24v24H0V0z\" fill=\"none\"/>\n",
              "    <path d=\"M18.56 5.44l.94 2.06.94-2.06 2.06-.94-2.06-.94-.94-2.06-.94 2.06-2.06.94zm-11 1L8.5 8.5l.94-2.06 2.06-.94-2.06-.94L8.5 2.5l-.94 2.06-2.06.94zm10 10l.94 2.06.94-2.06 2.06-.94-2.06-.94-.94-2.06-.94 2.06-2.06.94z\"/><path d=\"M17.41 7.96l-1.37-1.37c-.4-.4-.92-.59-1.43-.59-.52 0-1.04.2-1.43.59L10.3 9.45l-7.72 7.72c-.78.78-.78 2.05 0 2.83L4 21.41c.39.39.9.59 1.41.59.51 0 1.02-.2 1.41-.59l7.78-7.78 2.81-2.81c.8-.78.8-2.07 0-2.86zM5.41 20L4 18.59l7.72-7.72 1.47 1.35L5.41 20z\"/>\n",
              "  </svg>\n",
              "      </button>\n",
              "      \n",
              "  <style>\n",
              "    .colab-df-container {\n",
              "      display:flex;\n",
              "      flex-wrap:wrap;\n",
              "      gap: 12px;\n",
              "    }\n",
              "\n",
              "    .colab-df-convert {\n",
              "      background-color: #E8F0FE;\n",
              "      border: none;\n",
              "      border-radius: 50%;\n",
              "      cursor: pointer;\n",
              "      display: none;\n",
              "      fill: #1967D2;\n",
              "      height: 32px;\n",
              "      padding: 0 0 0 0;\n",
              "      width: 32px;\n",
              "    }\n",
              "\n",
              "    .colab-df-convert:hover {\n",
              "      background-color: #E2EBFA;\n",
              "      box-shadow: 0px 1px 2px rgba(60, 64, 67, 0.3), 0px 1px 3px 1px rgba(60, 64, 67, 0.15);\n",
              "      fill: #174EA6;\n",
              "    }\n",
              "\n",
              "    [theme=dark] .colab-df-convert {\n",
              "      background-color: #3B4455;\n",
              "      fill: #D2E3FC;\n",
              "    }\n",
              "\n",
              "    [theme=dark] .colab-df-convert:hover {\n",
              "      background-color: #434B5C;\n",
              "      box-shadow: 0px 1px 3px 1px rgba(0, 0, 0, 0.15);\n",
              "      filter: drop-shadow(0px 1px 2px rgba(0, 0, 0, 0.3));\n",
              "      fill: #FFFFFF;\n",
              "    }\n",
              "  </style>\n",
              "\n",
              "      <script>\n",
              "        const buttonEl =\n",
              "          document.querySelector('#df-35fa12e8-6970-43b3-af6e-3a40851f53a0 button.colab-df-convert');\n",
              "        buttonEl.style.display =\n",
              "          google.colab.kernel.accessAllowed ? 'block' : 'none';\n",
              "\n",
              "        async function convertToInteractive(key) {\n",
              "          const element = document.querySelector('#df-35fa12e8-6970-43b3-af6e-3a40851f53a0');\n",
              "          const dataTable =\n",
              "            await google.colab.kernel.invokeFunction('convertToInteractive',\n",
              "                                                     [key], {});\n",
              "          if (!dataTable) return;\n",
              "\n",
              "          const docLinkHtml = 'Like what you see? Visit the ' +\n",
              "            '<a target=\"_blank\" href=https://colab.research.google.com/notebooks/data_table.ipynb>data table notebook</a>'\n",
              "            + ' to learn more about interactive tables.';\n",
              "          element.innerHTML = '';\n",
              "          dataTable['output_type'] = 'display_data';\n",
              "          await google.colab.output.renderOutput(dataTable, element);\n",
              "          const docLink = document.createElement('div');\n",
              "          docLink.innerHTML = docLinkHtml;\n",
              "          element.appendChild(docLink);\n",
              "        }\n",
              "      </script>\n",
              "    </div>\n",
              "  </div>\n",
              "  "
            ]
          },
          "metadata": {},
          "execution_count": 23
        }
      ]
    },
    {
      "cell_type": "code",
      "source": [
        "cybersecurity_final_data = cybersecurity_data.drop('index', axis=1)"
      ],
      "metadata": {
        "id": "7U7qPMk2XFWe"
      },
      "execution_count": 24,
      "outputs": []
    },
    {
      "cell_type": "markdown",
      "source": [
        "### Explore the data using histogram, heatmaps"
      ],
      "metadata": {
        "id": "hqUGmeekVNjZ"
      }
    },
    {
      "cell_type": "markdown",
      "source": [
        "#### Histogram"
      ],
      "metadata": {
        "id": "NEARP7nrV6zN"
      }
    },
    {
      "cell_type": "code",
      "source": [
        "for i in cybersecurity_final_data.columns:\n",
        "  print(\"Label Name : \" + i)\n",
        "  cybersecurity_final_data[i].value_counts().plot(kind = 'bar')\n",
        "  plt.show()"
      ],
      "metadata": {
        "colab": {
          "base_uri": "https://localhost:8080/",
          "height": 1000
        },
        "id": "KAJZEF4nV94a",
        "outputId": "d2a5a24f-1bb3-4e0d-8bc6-f3d5aba3251c"
      },
      "execution_count": 25,
      "outputs": [
        {
          "output_type": "stream",
          "name": "stdout",
          "text": [
            "Label Name : having_IPhaving_IP_Address\n"
          ]
        },
        {
          "output_type": "display_data",
          "data": {
            "text/plain": [
              "<Figure size 432x288 with 1 Axes>"
            ],
            "image/png": "[encoded data removed]"
          },
          "metadata": {
            "needs_background": "light"
          }
        },
        {
          "output_type": "stream",
          "name": "stdout",
          "text": [
            "Label Name : URLURL_Length\n"
          ]
        },
        {
          "output_type": "display_data",
          "data": {
            "text/plain": [
              "<Figure size 432x288 with 1 Axes>"
            ],
            "image/png": "[encoded data removed]"
          },
          "metadata": {
            "needs_background": "light"
          }
        },
        {
          "output_type": "stream",
          "name": "stdout",
          "text": [
            "Label Name : Shortining_Service\n"
          ]
        },
        {
          "output_type": "display_data",
          "data": {
            "text/plain": [
              "<Figure size 432x288 with 1 Axes>"
            ],
            "image/png": "[encoded data removed]"
          },
          "metadata": {
            "needs_background": "light"
          }
        },
        {
          "output_type": "stream",
          "name": "stdout",
          "text": [
            "Label Name : having_At_Symbol\n"
          ]
        },
        {
          "output_type": "display_data",
          "data": {
            "text/plain": [
              "<Figure size 432x288 with 1 Axes>"
            ],
            "image/png": "[encoded data removed]"
          },
          "metadata": {
            "needs_background": "light"
          }
        },
        {
          "output_type": "stream",
          "name": "stdout",
          "text": [
            "Label Name : double_slash_redirecting\n"
          ]
        },
        {
          "output_type": "display_data",
          "data": {
            "text/plain": [
              "<Figure size 432x288 with 1 Axes>"
            ],
            "image/png": "[encoded data removed]"
          },
          "metadata": {
            "needs_background": "light"
          }
        },
        {
          "output_type": "stream",
          "name": "stdout",
          "text": [
            "Label Name : Prefix_Suffix\n"
          ]
        },
        {
          "output_type": "display_data",
          "data": {
            "text/plain": [
              "<Figure size 432x288 with 1 Axes>"
            ],
            "image/png": "[encoded data removed]"
          },
          "metadata": {
            "needs_background": "light"
          }
        },
        {
          "output_type": "stream",
          "name": "stdout",
          "text": [
            "Label Name : having_Sub_Domain\n"
          ]
        },
        {
          "output_type": "display_data",
          "data": {
            "text/plain": [
              "<Figure size 432x288 with 1 Axes>"
            ],
            "image/png": "[encoded data removed]"
          },
          "metadata": {
            "needs_background": "light"
          }
        },
        {
          "output_type": "stream",
          "name": "stdout",
          "text": [
            "Label Name : SSLfinal_State\n"
          ]
        },
        {
          "output_type": "display_data",
          "data": {
            "text/plain": [
              "<Figure size 432x288 with 1 Axes>"
            ],
            "image/png": "[encoded data removed]"
          },
          "metadata": {
            "needs_background": "light"
          }
        },
        {
          "output_type": "stream",
          "name": "stdout",
          "text": [
            "Label Name : Domain_registeration_length\n"
          ]
        },
        {
          "output_type": "display_data",
          "data": {
            "text/plain": [
              "<Figure size 432x288 with 1 Axes>"
            ],
            "image/png": "[encoded data removed]"
          },
          "metadata": {
            "needs_background": "light"
          }
        },
        {
          "output_type": "stream",
          "name": "stdout",
          "text": [
            "Label Name : Favicon\n"
          ]
        },
        {
          "output_type": "display_data",
          "data": {
            "text/plain": [
              "<Figure size 432x288 with 1 Axes>"
            ],
            "image/png": "[encoded data removed]"
          },
          "metadata": {
            "needs_background": "light"
          }
        },
        {
          "output_type": "stream",
          "name": "stdout",
          "text": [
            "Label Name : port\n"
          ]
        },
        {
          "output_type": "display_data",
          "data": {
            "text/plain": [
              "<Figure size 432x288 with 1 Axes>"
            ],
            "image/png": "[encoded data removed]"
          },
          "metadata": {
            "needs_background": "light"
          }
        },
        {
          "output_type": "stream",
          "name": "stdout",
          "text": [
            "Label Name : HTTPS_token\n"
          ]
        },
        {
          "output_type": "display_data",
          "data": {
            "text/plain": [
              "<Figure size 432x288 with 1 Axes>"
            ],
            "image/png": "[encoded data removed]"
          },
          "metadata": {
            "needs_background": "light"
          }
        },
        {
          "output_type": "stream",
          "name": "stdout",
          "text": [
            "Label Name : Request_URL\n"
          ]
        },
        {
          "output_type": "display_data",
          "data": {
            "text/plain": [
              "<Figure size 432x288 with 1 Axes>"
            ],
            "image/png": "[encoded data removed]"
          },
          "metadata": {
            "needs_background": "light"
          }
        },
        {
          "output_type": "stream",
          "name": "stdout",
          "text": [
            "Label Name : URL_of_Anchor\n"
          ]
        },
        {
          "output_type": "display_data",
          "data": {
            "text/plain": [
              "<Figure size 432x288 with 1 Axes>"
            ],
            "image/png": "[encoded data removed]"
          },
          "metadata": {
            "needs_background": "light"
          }
        },
        {
          "output_type": "stream",
          "name": "stdout",
          "text": [
            "Label Name : Links_in_tags\n"
          ]
        },
        {
          "output_type": "display_data",
          "data": {
            "text/plain": [
              "<Figure size 432x288 with 1 Axes>"
            ],
            "image/png": "[encoded data removed]"
          },
          "metadata": {
            "needs_background": "light"
          }
        },
        {
          "output_type": "stream",
          "name": "stdout",
          "text": [
            "Label Name : SFH\n"
          ]
        },
        {
          "output_type": "display_data",
          "data": {
            "text/plain": [
              "<Figure size 432x288 with 1 Axes>"
            ],
            "image/png": "[encoded data removed]"
          },
          "metadata": {
            "needs_background": "light"
          }
        },
        {
          "output_type": "stream",
          "name": "stdout",
          "text": [
            "Label Name : Submitting_to_email\n"
          ]
        },
        {
          "output_type": "display_data",
          "data": {
            "text/plain": [
              "<Figure size 432x288 with 1 Axes>"
            ],
            "image/png": "[encoded data removed]"
          },
          "metadata": {
            "needs_background": "light"
          }
        },
        {
          "output_type": "stream",
          "name": "stdout",
          "text": [
            "Label Name : Abnormal_URL\n"
          ]
        },
        {
          "output_type": "display_data",
          "data": {
            "text/plain": [
              "<Figure size 432x288 with 1 Axes>"
            ],
            "image/png": "[encoded data removed]"
          },
          "metadata": {
            "needs_background": "light"
          }
        },
        {
          "output_type": "stream",
          "name": "stdout",
          "text": [
            "Label Name : Redirect\n"
          ]
        },
        {
          "output_type": "display_data",
          "data": {
            "text/plain": [
              "<Figure size 432x288 with 1 Axes>"
            ],
            "image/png": "[encoded data removed]"
          },
          "metadata": {
            "needs_background": "light"
          }
        },
        {
          "output_type": "stream",
          "name": "stdout",
          "text": [
            "Label Name : on_mouseover\n"
          ]
        },
        {
          "output_type": "display_data",
          "data": {
            "text/plain": [
              "<Figure size 432x288 with 1 Axes>"
            ],
            "image/png": "[encoded data removed]"
          },
          "metadata": {
            "needs_background": "light"
          }
        },
        {
          "output_type": "stream",
          "name": "stdout",
          "text": [
            "Label Name : RightClick\n"
          ]
        },
        {
          "output_type": "display_data",
          "data": {
            "text/plain": [
              "<Figure size 432x288 with 1 Axes>"
            ],
            "image/png": "[encoded data removed]"
          },
          "metadata": {
            "needs_background": "light"
          }
        },
        {
          "output_type": "stream",
          "name": "stdout",
          "text": [
            "Label Name : popUpWidnow\n"
          ]
        },
        {
          "output_type": "display_data",
          "data": {
            "text/plain": [
              "<Figure size 432x288 with 1 Axes>"
            ],
            "image/png": "[encoded data removed]"
          },
          "metadata": {
            "needs_background": "light"
          }
        },
        {
          "output_type": "stream",
          "name": "stdout",
          "text": [
            "Label Name : Iframe\n"
          ]
        },
        {
          "output_type": "display_data",
          "data": {
            "text/plain": [
              "<Figure size 432x288 with 1 Axes>"
            ],
            "image/png": "[encoded data removed]"
          },
          "metadata": {
            "needs_background": "light"
          }
        },
        {
          "output_type": "stream",
          "name": "stdout",
          "text": [
            "Label Name : age_of_domain\n"
          ]
        },
        {
          "output_type": "display_data",
          "data": {
            "text/plain": [
              "<Figure size 432x288 with 1 Axes>"
            ],
            "image/png": "[encoded data removed]"
          },
          "metadata": {
            "needs_background": "light"
          }
        },
        {
          "output_type": "stream",
          "name": "stdout",
          "text": [
            "Label Name : DNSRecord\n"
          ]
        },
        {
          "output_type": "display_data",
          "data": {
            "text/plain": [
              "<Figure size 432x288 with 1 Axes>"
            ],
            "image/png": "[encoded data removed]"
          },
          "metadata": {
            "needs_background": "light"
          }
        },
        {
          "output_type": "stream",
          "name": "stdout",
          "text": [
            "Label Name : web_traffic\n"
          ]
        },
        {
          "output_type": "display_data",
          "data": {
            "text/plain": [
              "<Figure size 432x288 with 1 Axes>"
            ],
            "image/png": "[encoded data removed]"
          },
          "metadata": {
            "needs_background": "light"
          }
        },
        {
          "output_type": "stream",
          "name": "stdout",
          "text": [
            "Label Name : Page_Rank\n"
          ]
        },
        {
          "output_type": "display_data",
          "data": {
            "text/plain": [
              "<Figure size 432x288 with 1 Axes>"
            ],
            "image/png": "[encoded data removed]"
          },
          "metadata": {
            "needs_background": "light"
          }
        },
        {
          "output_type": "stream",
          "name": "stdout",
          "text": [
            "Label Name : Google_Index\n"
          ]
        },
        {
          "output_type": "display_data",
          "data": {
            "text/plain": [
              "<Figure size 432x288 with 1 Axes>"
            ],
            "image/png": "[encoded data removed]"
          },
          "metadata": {
            "needs_background": "light"
          }
        },
        {
          "output_type": "stream",
          "name": "stdout",
          "text": [
            "Label Name : Links_pointing_to_page\n"
          ]
        },
        {
          "output_type": "display_data",
          "data": {
            "text/plain": [
              "<Figure size 432x288 with 1 Axes>"
            ],
            "image/png": "[encoded data removed]"
          },
          "metadata": {
            "needs_background": "light"
          }
        },
        {
          "output_type": "stream",
          "name": "stdout",
          "text": [
            "Label Name : Statistical_report\n"
          ]
        },
        {
          "output_type": "display_data",
          "data": {
            "text/plain": [
              "<Figure size 432x288 with 1 Axes>"
            ],
            "image/png": "[encoded data removed]"
          },
          "metadata": {
            "needs_background": "light"
          }
        },
        {
          "output_type": "stream",
          "name": "stdout",
          "text": [
            "Label Name : Result\n"
          ]
        },
        {
          "output_type": "display_data",
          "data": {
            "text/plain": [
              "<Figure size 432x288 with 1 Axes>"
            ],
            "image/png": "[encoded data removed]"
          },
          "metadata": {
            "needs_background": "light"
          }
        }
      ]
    },
    {
      "cell_type": "markdown",
      "source": [
        "#### Heatmaps"
      ],
      "metadata": {
        "id": "mtLX2roMXn9m"
      }
    },
    {
      "cell_type": "code",
      "source": [
        "sns.heatmap(cybersecurity_final_data.corr())"
      ],
      "metadata": {
        "colab": {
          "base_uri": "https://localhost:8080/",
          "height": 421
        },
        "id": "vXER7gsnZ1Gl",
        "outputId": "d2f3f6df-fd51-458d-9b05-a9e2a1efc0ec"
      },
      "execution_count": 26,
      "outputs": [
        {
          "output_type": "execute_result",
          "data": {
            "text/plain": [
              "<matplotlib.axes._subplots.AxesSubplot at 0x7f28df162610>"
            ]
          },
          "metadata": {},
          "execution_count": 26
        },
        {
          "output_type": "display_data",
          "data": {
            "text/plain": [
              "<Figure size 432x288 with 2 Axes>"
            ],
            "image/png": "[encoded data removed]"
          },
          "metadata": {
            "needs_background": "light"
          }
        }
      ]
    },
    {
      "cell_type": "code",
      "source": [
        "import plotly.express as px\n",
        "fig = px.imshow(cybersecurity_final_data.corr())\n",
        "fig.show()"
      ],
      "metadata": {
        "colab": {
          "base_uri": "https://localhost:8080/",
          "height": 542
        },
        "id": "5SADO3vrXqz2",
        "outputId": "72da557d-6382-4b32-d534-4b7ec22f8126"
      },
      "execution_count": 27,
      "outputs": [
        {
          "output_type": "display_data",
          "data": {
            "text/html": [
              "<html>\n",
              "<head><meta charset=\"utf-8\" /></head>\n",
              "<body>\n",
              "    <div>            <script src=\"https://cdnjs.cloudflare.com/ajax/libs/mathjax/2.7.5/MathJax.js?config=TeX-AMS-MML_SVG\"></script><script type=\"text/javascript\">if (window.MathJax) {MathJax.Hub.Config({SVG: {font: \"STIX-Web\"}});}</script>                <script type=\"text/javascript\">window.PlotlyConfig = {MathJaxConfig: 'local'};</script>\n",
              "        <script src=\"https://cdn.plot.ly/plotly-2.8.3.min.js\"></script>                <div id=\"b268d3de-4c80-4db8-8dc2-67bd71f61198\" class=\"plotly-graph-div\" style=\"height:525px; width:100%;\"></div>            <script type=\"text/javascript\">                                    window.PLOTLYENV=window.PLOTLYENV || {};                                    if (document.getElementById(\"b268d3de-4c80-4db8-8dc2-67bd71f61198\")) {                    Plotly.newPlot(                        \"b268d3de-4c80-4db8-8dc2-67bd71f61198\",                        [{\"coloraxis\":\"coloraxis\",\"name\":\"0\",\"x\":[\"having_IPhaving_IP_Address\",\"URLURL_Length\",\"Shortining_Service\",\"having_At_Symbol\",\"double_slash_redirecting\",\"Prefix_Suffix\",\"having_Sub_Domain\",\"SSLfinal_State\",\"Domain_registeration_length\",\"Favicon\",\"port\",\"HTTPS_token\",\"Request_URL\",\"URL_of_Anchor\",\"Links_in_tags\",\"SFH\",\"Submitting_to_email\",\"Abnormal_URL\",\"Redirect\",\"on_mouseover\",\"RightClick\",\"popUpWidnow\",\"Iframe\",\"age_of_domain\",\"DNSRecord\",\"web_traffic\",\"Page_Rank\",\"Google_Index\",\"Links_pointing_to_page\",\"Statistical_report\",\"Result\"],\"y\":[\"having_IPhaving_IP_Address\",\"URLURL_Length\",\"Shortining_Service\",\"having_At_Symbol\",\"double_slash_redirecting\",\"Prefix_Suffix\",\"having_Sub_Domain\",\"SSLfinal_State\",\"Domain_registeration_length\",\"Favicon\",\"port\",\"HTTPS_token\",\"Request_URL\",\"URL_of_Anchor\",\"Links_in_tags\",\"SFH\",\"Submitting_to_email\",\"Abnormal_URL\",\"Redirect\",\"on_mouseover\",\"RightClick\",\"popUpWidnow\",\"Iframe\",\"age_of_domain\",\"DNSRecord\",\"web_traffic\",\"Page_Rank\",\"Google_Index\",\"Links_pointing_to_page\",\"Statistical_report\",\"Result\"],\"z\":[[1.0,-0.052410738824945735,0.4034610929865455,0.15869895124067113,0.3973890867744045,-0.005256974576590451,-0.08074463873924462,0.07141449969666971,-0.022739206045585936,0.08702482937656886,0.060979206065404225,0.36353448158902824,0.029772866744659763,0.09984695527817315,0.006212403614507648,-0.010962287254629506,0.07798915303065374,0.3365493566410233,-0.3211814193926738,0.08405931558842142,0.04288143088460717,0.09688229482155053,0.054694437441903006,-0.010445720744666123,-0.05073330328134812,0.002922205354797969,-0.09177375095651241,0.029152888907376807,-0.33906510704252385,-0.019102514546481417,0.094160094956204],[-0.052410738824945735,1.0,-0.09788090974005431,-0.07510847564468295,-0.08124707921352557,0.05524671595038368,0.003996879129986993,0.04875373283680306,-0.2218924308883727,-0.04249721995471679,0.0003229482556663206,-0.08938254850290767,0.24634809610734246,-0.023395509572329765,0.05286907223544096,0.41419621931069045,-0.014457497347394824,-0.10676086023742151,0.04683223841129906,-0.04510303753886787,-0.013613364531283525,-0.0493812351081077,-0.013838224100505515,0.17942642440821768,-0.04082337167674406,0.008992781593075323,0.18351797305152268,0.002902415443105164,-0.02298741556635968,-0.06715308904658979,0.05742962926610788],[0.4034610929865455,-0.09788090974005431,1.0,0.10444654943953877,0.8427956224053693,-0.0804705533007606,-0.04191618182152304,-0.061425652067821225,0.06092319440171894,0.006100648946611642,0.0022008313389685493,0.7578377011863667,-0.03723452679629652,0.0005614793367995739,-0.13337911635768598,-0.022723476833805576,0.049328227368409173,0.7392895720500711,-0.5345296596336312,0.06238346819739059,0.0381184510340216,0.036615789655747,0.016580757404065383,-0.052595837151925486,0.43606429026457194,-0.047074370965382306,0.014591370896696175,0.1558437456488221,-0.1984097699812394,0.08546075827351411,-0.06796589265932193],[0.15869895124067113,-0.07510847564468295,0.10444654943953877,1.0,0.08695995046606704,-0.011725538694799845,-0.058975762952473434,0.031219999988836938,0.01552153519919633,0.30489905472813345,0.3648905153603372,0.10456100725447366,0.02790918513925285,0.05791388943803891,-0.07086135390708007,-0.008671647870433629,0.3701226590047237,0.20394487734736608,-0.02815959090763601,0.2796970034314683,0.21950302097266342,0.2908928426756438,0.28440994537835135,-0.005499096673808405,-0.047871517674296926,0.03291839131697787,-0.06473517641745756,0.037061310588764586,-0.006080372080871162,-0.08035660088122715,0.05294778935893237],[0.3973890867744045,-0.08124707921352557,0.8427956224053693,0.08695995046606704,1.0,-0.08559039998443256,-0.04307880760347734,-0.036199897162534196,0.04746423077548546,0.035100075766933234,0.025060376364905674,0.7607993984925642,-0.026367649937868085,-0.005035903199518759,-0.1255826697624995,-0.04167218171922746,0.03189796541741226,0.723723562943395,-0.5914779292694577,0.08663470375225667,0.025863086346889008,0.05446261674437704,0.010458640509990442,-0.05010663494399517,0.43140948016055264,-0.0623693827759173,-0.0031323320319824087,0.17841490327070625,-0.19416463364103861,0.07038994188518335,-0.03860761195594821],[-0.005256974576590451,0.05524671595038368,-0.0804705533007606,-0.011725538694799845,-0.08559039998443256,1.0,0.08789108951741939,0.2613905324044003,-0.09679853017235,-0.007504228395755308,-0.022545832193132817,-0.07015310642316265,0.0986748353145703,0.34887119935196603,0.10025399404739598,0.0013255408959841695,-0.04500031873675796,-0.07762030278835771,0.016271426030823447,0.012578296728137905,-0.024868265510826392,-0.014732588440414916,-0.03690444155445671,0.07411623390874399,-0.01655555929109275,0.11059762538549962,-0.00683392835256138,0.06778062088276038,0.06742336062955341,-0.0027625648119475807,0.34860557031815537],[-0.08074463873924462,0.003996879129986993,-0.04191618182152304,-0.058975762952473434,-0.04307880760347734,0.08789108951741939,1.0,0.26764875539658595,-0.08283857432212767,-0.01670437226564838,0.004862570612801348,-0.03723920937938659,0.10485661460199311,0.22949070938052912,0.09364595389410608,0.09608882782870652,0.008829840264527272,-0.03490759222468475,0.031205629273804773,-0.018082179771567987,0.018229872720789388,-0.025312227721408252,0.010636523792807577,0.11925376585886863,0.1254933838985559,-0.0057639095611913705,0.12073006671413355,0.05767254035368302,-0.010525802851412767,0.0816273787649678,0.2983233237700886],[0.07141449969666971,0.04875373283680306,-0.061425652067821225,0.031219999988836938,-0.036199897162534196,0.2613905324044003,0.26764875539658595,1.0,-0.1936220462879976,-0.014756696174288986,0.02747284808690704,-0.029941373315912498,0.19305444028874957,0.5357861908016471,0.17682516272532614,0.17140238875724548,0.00806150004571182,-0.04624512892241048,-0.021069746700343644,0.023585817648624694,0.015854372204339908,-0.013004887157939822,-0.0027731940267769276,0.16280941960878953,0.0509717799803995,0.2587678353195676,0.07454500868449528,0.09605139204556892,-0.01171022730185769,0.06341093069518193,0.7147411951750106],[-0.022739206045585936,-0.2218924308883727,0.06092319440171894,0.01552153519919633,0.04746423077548546,-0.09679853017235,-0.08283857432212767,-0.1936220462879976,1.0,0.05425345051080554,0.02247755115074759,0.059161071093062026,-0.6099696882094737,-0.1602573070526007,-0.10108412239207734,-0.1364219796395741,0.03926034313741531,0.05810871988704045,-0.016299936809397234,0.02378384747854664,0.02352043729167103,0.051409859132793216,0.004393378339959922,-0.06285128476295627,-0.010476735992464369,-0.13445433441344914,-0.059898164454087965,-0.03976576407817714,0.12267156905038061,-0.0022120402663642785,-0.22578946245861145],[0.08702482937656886,-0.04249721995471679,0.006100648946611642,0.30489905472813345,0.035100075766933234,-0.007504228395755308,-0.01670437226564838,-0.014756696174288986,0.05425345051080554,1.0,0.8038335605408589,0.049483029257930564,-0.004620401000700852,0.03769783024048489,-0.10034104873955951,-0.012279202280987445,0.6683166075918493,0.07184772936588446,-0.015620932578588136,0.7061793318028395,0.41438220650459984,0.9396329249822858,0.6276072099938209,-0.002627842787755427,0.08821065869235895,-0.05092184511779188,0.011699222703973671,-0.016667710582428698,-0.1272430957704769,0.3009172188172334,-0.0002795246949452266],[0.060979206065404225,0.0003229482556663206,0.0022008313389685493,0.3648905153603372,0.025060376364905674,-0.022545832193132817,0.004862570612801348,0.02747284808690704,0.02247755115074759,0.8038335605408589,1.0,0.00499862277078346,0.02756132901378728,0.039891378039719434,-0.06650203557092571,0.006672198944029014,0.7990881592665705,0.05412640703204037,-0.022471985354822,0.6232982087262023,0.4816308909330979,0.748517173082484,0.6870441023861122,0.008458786033451727,0.05484909360199566,-0.028542692397991183,0.017953718542933678,-0.005413039566948002,-0.13910395462842734,0.34398680648886026,0.036418850913855355],[0.36353448158902824,-0.08938254850290767,0.7578377011863667,0.10456100725447366,0.7607993984925642,-0.07015310642316265,-0.03723920937938659,-0.029941373315912498,0.059161071093062026,0.049483029257930564,0.00499862277078346,1.0,-0.006619688529177348,0.011850846561772996,-0.10438101688386,-0.00967978729447853,0.07547779542319209,0.7162873674452148,-0.46016454268005264,0.11011327127132585,0.009264613292371672,0.06695688095777638,0.017508903418393323,-0.0496321140968649,0.39538663360684845,-0.03970836963376436,0.021104114905996934,0.11544995110237598,-0.12872415235252657,0.09618673445703667,-0.03985389543681013],[0.029772866744659763,0.24634809610734246,-0.03723452679629652,0.02790918513925285,-0.026367649937868085,0.0986748353145703,0.10485661460199311,0.19305444028874957,-0.6099696882094737,-0.004620401000700852,0.02756132901378728,-0.006619688529177348,1.0,0.1776932006039787,0.06749100800586766,0.12666060460601444,0.018177693755494172,-0.03603355351104482,0.0023292586277760515,0.008144032156282236,-0.020451804181906882,-0.004622095333681182,0.016933671993495297,0.09045547338104827,0.015932565761603103,0.16116630086023945,0.05573400835416231,0.046408593939993956,-0.06710901993931026,0.03541177547077022,0.25337227167184123],[0.09984695527817315,-0.023395509572329765,0.0005614793367995739,0.05791388943803891,-0.005035903199518759,0.34887119935196603,0.22949070938052912,0.5357861908016471,-0.1602573070526007,0.03769783024048489,0.039891378039719434,0.011850846561772996,0.1776932006039787,1.0,0.13628330366496266,0.11431132794035219,0.033385865356154655,-0.010585229458970351,-0.0008394491574302838,0.06774165409367444,0.02216815795143837,0.04115019233192126,0.013402734957281363,0.07550813043939039,0.09328835354615722,0.32629322998035387,0.09926087151398967,0.03881622974716243,0.01865063226615326,0.0773766300003031,0.6929345205555705],[0.006212403614507648,0.05286907223544096,-0.13337911635768598,-0.07086135390708007,-0.1255826697624995,0.10025399404739598,0.09364595389410608,0.17682516272532614,-0.10108412239207734,-0.10034104873955951,-0.06650203557092571,-0.10438101688386,0.06749100800586766,0.13628330366496266,1.0,0.06659760038057795,-0.04323130594286623,-0.11606546620456736,0.041497199179976865,-0.0776695800696214,-0.03746919539806956,-0.11228166041160927,-0.0700297115310334,0.0780567844396656,-0.038544708845403695,0.06454805071338353,-0.006449921152891745,0.045557482132312734,0.013561478023103328,-0.08734325368008435,0.248228515390874],[-0.010962287254629506,0.41419621931069045,-0.022723476833805576,-0.008671647870433629,-0.04167218171922746,0.0013255408959841695,0.09608882782870652,0.17140238875724548,-0.1364219796395741,-0.012279202280987445,0.006672198944029014,-0.00967978729447853,0.12666060460601444,0.11431132794035219,0.06659760038057795,1.0,0.011472617330683403,-0.030751840560938624,0.049907172946167,0.007579218240087173,0.008467338117374688,-0.004862725866511771,0.007066971039700838,-0.015839916005062286,0.034439508073097175,0.05270636261497726,0.0019785600656516984,0.0275876781637812,-0.009067706067731171,-0.005288871199612735,0.22141900810344317],[0.07798915303065374,-0.014457497347394824,0.049328227368409173,0.3701226590047237,0.03189796541741226,-0.04500031873675796,0.008829840264527272,0.00806150004571182,0.03926034313741531,0.6683166075918493,0.7990881592665705,0.07547779542319209,0.018177693755494172,0.033385865356154655,-0.04323130594286623,0.011472617330683403,1.0,0.19585007747036018,-0.007320610000057718,0.531656070820403,0.3986294036697151,0.6294622717358453,0.5774902689464269,0.007357319597820681,0.06414537309118581,-0.0156845453992695,0.026208360022373353,-0.008377619870918911,-0.03995572656371831,0.35207397631618387,0.01824900864712465],[0.3365493566410233,-0.10676086023742151,0.7392895720500711,0.20394487734736608,0.723723562943395,-0.07762030278835771,-0.03490759222468475,-0.04624512892241048,0.05810871988704045,0.07184772936588446,0.05412640703204037,0.7162873674452148,-0.03603355351104482,-0.010585229458970351,-0.11606546620456736,-0.030751840560938624,0.19585007747036018,1.0,-0.45918706554040023,0.11763762754892672,0.02371031193258022,0.09118815987772469,0.017590440180245203,-0.032532658010977884,0.3668333836965143,-0.05241579700829219,0.0073176766282360625,0.1247512009832967,-0.16102656762828407,0.18639904608289698,-0.0604876418207573],[-0.3211814193926738,0.04683223841129906,-0.5345296596336312,-0.02815959090763601,-0.5914779292694577,0.016271426030823447,0.031205629273804773,-0.021069746700343644,-0.016299936809397234,-0.015620932578588136,-0.022471985354822,-0.46016454268005264,0.0023292586277760515,-0.0008394491574302838,0.041497199179976865,0.049907172946167,-0.007320610000057718,-0.45918706554040023,1.0,-0.034822519450841215,-0.023586423982771648,-0.026326833667056054,-0.01266766102889654,-0.022475541326312652,-0.21109598754572464,0.004631420814527116,0.05286660399586622,0.0572302893666589,0.1612777884104205,-0.059194240777801936,-0.020113461657573727],[0.08405931558842142,-0.04510303753886787,0.06238346819739059,0.2796970034314683,0.08663470375225667,0.012578296728137905,-0.018082179771567987,0.023585817648624694,0.02378384747854664,0.7061793318028395,0.6232982087262023,0.11011327127132585,0.008144032156282236,0.06774165409367444,-0.0776695800696214,0.007579218240087173,0.531656070820403,0.11763762754892672,-0.034822519450841215,1.0,0.4740540440457037,0.7336287976291613,0.659478008035293,0.013305705778743878,0.087161413349456,-0.03653125429475,0.01563368815476348,-0.006510002844912208,-0.03855102755360382,0.277346725430919,0.041838439978719735],[0.04288143088460717,-0.013613364531283525,0.0381184510340216,0.21950302097266342,0.025863086346889008,-0.024868265510826392,0.018229872720789388,0.015854372204339908,0.02352043729167103,0.41438220650459984,0.4816308909330979,0.009264613292371672,-0.020451804181906882,0.02216815795143837,-0.03746919539806956,0.008467338117374688,0.3986294036697151,0.02371031193258022,-0.023586423982771648,0.4740540440457037,1.0,0.41526808859870695,0.6558625339600116,0.006763936054193822,0.0382549399064117,-0.013594317866115048,0.025341161463888862,-0.00806557356969894,-0.11983103339467911,0.20440918331266747,0.012653234917093071],[0.09688229482155053,-0.0493812351081077,0.036615789655747,0.2908928426756438,0.05446261674437704,-0.014732588440414916,-0.025312227721408252,-0.013004887157939822,0.051409859132793216,0.9396329249822858,0.748517173082484,0.06695688095777638,-0.004622095333681182,0.04115019233192126,-0.11228166041160927,-0.004862725866511771,0.6294622717358453,0.09118815987772469,-0.026326833667056054,0.7336287976291613,0.41526808859870695,1.0,0.6294062509751897,-0.000948220213044398,0.09865789607972861,-0.04319002809780516,0.017114154497222183,-0.010255539168907781,-0.12132546172050393,0.2852606153219357,8.588679256218537e-05],[0.054694437441903006,-0.013838224100505515,0.016580757404065383,0.28440994537835135,0.010458640509990442,-0.03690444155445671,0.010636523792807577,-0.0027731940267769276,0.004393378339959922,0.6276072099938209,0.6870441023861122,0.017508903418393323,0.016933671993495297,0.013402734957281363,-0.0700297115310334,0.007066971039700838,0.5774902689464269,0.017590440180245203,-0.01266766102889654,0.659478008035293,0.6558625339600116,0.6294062509751897,1.0,0.01884767788975189,0.04729313281408612,-0.022079554950813405,0.02240726459776714,-0.003519027998578998,-0.14082368695860828,0.2684178040409345,-0.00339352386446437],[-0.010445720744666123,0.17942642440821768,-0.052595837151925486,-0.005499096673808405,-0.05010663494399517,0.07411623390874399,0.11925376585886863,0.16280941960878953,-0.06285128476295627,-0.002627842787755427,0.008458786033451727,-0.0496321140968649,0.09045547338104827,0.07550813043939039,0.0780567844396656,-0.015839916005062286,0.007357319597820681,-0.032532658010977884,-0.022475541326312652,0.013305705778743878,0.006763936054193822,-0.000948220213044398,0.01884767788975189,1.0,-0.03408234973645528,0.08994894968477216,-0.1471935454915727,-0.02847145970639093,0.04040743710339514,0.00911504436425324,0.12149641654726306],[-0.05073330328134812,-0.04082337167674406,0.43606429026457194,-0.047871517674296926,0.43140948016055264,-0.01655555929109275,0.1254933838985559,0.0509717799803995,-0.010476735992464369,0.08821065869235895,0.05484909360199566,0.39538663360684845,0.015932565761603103,0.09328835354615722,-0.038544708845403695,0.034439508073097175,0.06414537309118581,0.3668333836965143,-0.21109598754572464,0.087161413349456,0.0382549399064117,0.09865789607972861,0.04729313281408612,-0.03408234973645528,1.0,0.048649502708506064,0.13786020010097574,0.1375090333546687,-0.31826598951684787,0.13685989775484012,0.07571774915972286],[0.002922205354797969,0.008992781593075323,-0.047074370965382306,0.03291839131697787,-0.0623693827759173,0.11059762538549962,-0.0057639095611913705,0.2587678353195676,-0.13445433441344914,-0.05092184511779188,-0.028542692397991183,-0.03970836963376436,0.16116630086023945,0.32629322998035387,0.06454805071338353,0.05270636261497726,-0.0156845453992695,-0.05241579700829219,0.004631420814527116,-0.03653125429475,-0.013594317866115048,-0.04319002809780516,-0.022079554950813405,0.08994894968477216,0.048649502708506064,1.0,0.03098436631998025,-0.012583856926321687,-0.019859996020254594,0.009222874954288859,0.346103108029068],[-0.09177375095651241,0.18351797305152268,0.014591370896696175,-0.06473517641745756,-0.0031323320319824087,-0.00683392835256138,0.12073006671413355,0.07454500868449528,-0.059898164454087965,0.011699222703973671,0.017953718542933678,0.021104114905996934,0.05573400835416231,0.09926087151398967,-0.006449921152891745,0.0019785600656516984,0.026208360022373353,0.0073176766282360625,0.05286660399586622,0.01563368815476348,0.025341161463888862,0.017114154497222183,0.02240726459776714,-0.1471935454915727,0.13786020010097574,0.03098436631998025,1.0,0.03243123018123103,-0.02821550890951345,0.03104861334561661,0.10464490513900725],[0.029152888907376807,0.002902415443105164,0.1558437456488221,0.037061310588764586,0.17841490327070625,0.06778062088276038,0.05767254035368302,0.09605139204556892,-0.03976576407817714,-0.016667710582428698,-0.005413039566948002,0.11544995110237598,0.046408593939993956,0.03881622974716243,0.045557482132312734,0.0275876781637812,-0.008377619870918911,0.1247512009832967,0.0572302893666589,-0.006510002844912208,-0.00806557356969894,-0.010255539168907781,-0.003519027998578998,-0.02847145970639093,0.1375090333546687,-0.012583856926321687,0.03243123018123103,1.0,-0.03877679142022151,-0.005102842596810536,0.12895045164022326],[-0.33906510704252385,-0.02298741556635968,-0.1984097699812394,-0.006080372080871162,-0.19416463364103861,0.06742336062955341,-0.010525802851412767,-0.01171022730185769,0.12267156905038061,-0.1272430957704769,-0.13910395462842734,-0.12872415235252657,-0.06710901993931026,0.01865063226615326,0.013561478023103328,-0.009067706067731171,-0.03995572656371831,-0.16102656762828407,0.1612777884104205,-0.03855102755360382,-0.11983103339467911,-0.12132546172050393,-0.14082368695860828,0.04040743710339514,-0.31826598951684787,-0.019859996020254594,-0.02821550890951345,-0.03877679142022151,1.0,-0.016817478472788087,0.03257389871947663],[-0.019102514546481417,-0.06715308904658979,0.08546075827351411,-0.08035660088122715,0.07038994188518335,-0.0027625648119475807,0.0816273787649678,0.06341093069518193,-0.0022120402663642785,0.3009172188172334,0.34398680648886026,0.09618673445703667,0.03541177547077022,0.0773766300003031,-0.08734325368008435,-0.005288871199612735,0.35207397631618387,0.18639904608289698,-0.059194240777801936,0.277346725430919,0.20440918331266747,0.2852606153219357,0.2684178040409345,0.00911504436425324,0.13685989775484012,0.009222874954288859,0.03104861334561661,-0.005102842596810536,-0.016817478472788087,1.0,0.07985671779561723],[0.094160094956204,0.05742962926610788,-0.06796589265932193,0.05294778935893237,-0.03860761195594821,0.34860557031815537,0.2983233237700886,0.7147411951750106,-0.22578946245861145,-0.0002795246949452266,0.036418850913855355,-0.03985389543681013,0.25337227167184123,0.6929345205555705,0.248228515390874,0.22141900810344317,0.01824900864712465,-0.0604876418207573,-0.020113461657573727,0.041838439978719735,0.012653234917093071,8.588679256218537e-05,-0.00339352386446437,0.12149641654726306,0.07571774915972286,0.346103108029068,0.10464490513900725,0.12895045164022326,0.03257389871947663,0.07985671779561723,1.0]],\"type\":\"heatmap\",\"xaxis\":\"x\",\"yaxis\":\"y\",\"hovertemplate\":\"x: %{x}<br>y: %{y}<br>color: %{z}<extra></extra>\"}],                        {\"template\":{\"data\":{\"bar\":[{\"error_x\":{\"color\":\"#2a3f5f\"},\"error_y\":{\"color\":\"#2a3f5f\"},\"marker\":{\"line\":{\"color\":\"#E5ECF6\",\"width\":0.5},\"pattern\":{\"fillmode\":\"overlay\",\"size\":10,\"solidity\":0.2}},\"type\":\"bar\"}],\"barpolar\":[{\"marker\":{\"line\":{\"color\":\"#E5ECF6\",\"width\":0.5},\"pattern\":{\"fillmode\":\"overlay\",\"size\":10,\"solidity\":0.2}},\"type\":\"barpolar\"}],\"carpet\":[{\"aaxis\":{\"endlinecolor\":\"#2a3f5f\",\"gridcolor\":\"white\",\"linecolor\":\"white\",\"minorgridcolor\":\"white\",\"startlinecolor\":\"#2a3f5f\"},\"baxis\":{\"endlinecolor\":\"#2a3f5f\",\"gridcolor\":\"white\",\"linecolor\":\"white\",\"minorgridcolor\":\"white\",\"startlinecolor\":\"#2a3f5f\"},\"type\":\"carpet\"}],\"choropleth\":[{\"colorbar\":{\"outlinewidth\":0,\"ticks\":\"\"},\"type\":\"choropleth\"}],\"contour\":[{\"colorbar\":{\"outlinewidth\":0,\"ticks\":\"\"},\"colorscale\":[[0.0,\"#0d0887\"],[0.1111111111111111,\"#46039f\"],[0.2222222222222222,\"#7201a8\"],[0.3333333333333333,\"#9c179e\"],[0.4444444444444444,\"#bd3786\"],[0.5555555555555556,\"#d8576b\"],[0.6666666666666666,\"#ed7953\"],[0.7777777777777778,\"#fb9f3a\"],[0.8888888888888888,\"#fdca26\"],[1.0,\"#f0f921\"]],\"type\":\"contour\"}],\"contourcarpet\":[{\"colorbar\":{\"outlinewidth\":0,\"ticks\":\"\"},\"type\":\"contourcarpet\"}],\"heatmap\":[{\"colorbar\":{\"outlinewidth\":0,\"ticks\":\"\"},\"colorscale\":[[0.0,\"#0d0887\"],[0.1111111111111111,\"#46039f\"],[0.2222222222222222,\"#7201a8\"],[0.3333333333333333,\"#9c179e\"],[0.4444444444444444,\"#bd3786\"],[0.5555555555555556,\"#d8576b\"],[0.6666666666666666,\"#ed7953\"],[0.7777777777777778,\"#fb9f3a\"],[0.8888888888888888,\"#fdca26\"],[1.0,\"#f0f921\"]],\"type\":\"heatmap\"}],\"heatmapgl\":[{\"colorbar\":{\"outlinewidth\":0,\"ticks\":\"\"},\"colorscale\":[[0.0,\"#0d0887\"],[0.1111111111111111,\"#46039f\"],[0.2222222222222222,\"#7201a8\"],[0.3333333333333333,\"#9c179e\"],[0.4444444444444444,\"#bd3786\"],[0.5555555555555556,\"#d8576b\"],[0.6666666666666666,\"#ed7953\"],[0.7777777777777778,\"#fb9f3a\"],[0.8888888888888888,\"#fdca26\"],[1.0,\"#f0f921\"]],\"type\":\"heatmapgl\"}],\"histogram\":[{\"marker\":{\"pattern\":{\"fillmode\":\"overlay\",\"size\":10,\"solidity\":0.2}},\"type\":\"histogram\"}],\"histogram2d\":[{\"colorbar\":{\"outlinewidth\":0,\"ticks\":\"\"},\"colorscale\":[[0.0,\"#0d0887\"],[0.1111111111111111,\"#46039f\"],[0.2222222222222222,\"#7201a8\"],[0.3333333333333333,\"#9c179e\"],[0.4444444444444444,\"#bd3786\"],[0.5555555555555556,\"#d8576b\"],[0.6666666666666666,\"#ed7953\"],[0.7777777777777778,\"#fb9f3a\"],[0.8888888888888888,\"#fdca26\"],[1.0,\"#f0f921\"]],\"type\":\"histogram2d\"}],\"histogram2dcontour\":[{\"colorbar\":{\"outlinewidth\":0,\"ticks\":\"\"},\"colorscale\":[[0.0,\"#0d0887\"],[0.1111111111111111,\"#46039f\"],[0.2222222222222222,\"#7201a8\"],[0.3333333333333333,\"#9c179e\"],[0.4444444444444444,\"#bd3786\"],[0.5555555555555556,\"#d8576b\"],[0.6666666666666666,\"#ed7953\"],[0.7777777777777778,\"#fb9f3a\"],[0.8888888888888888,\"#fdca26\"],[1.0,\"#f0f921\"]],\"type\":\"histogram2dcontour\"}],\"mesh3d\":[{\"colorbar\":{\"outlinewidth\":0,\"ticks\":\"\"},\"type\":\"mesh3d\"}],\"parcoords\":[{\"line\":{\"colorbar\":{\"outlinewidth\":0,\"ticks\":\"\"}},\"type\":\"parcoords\"}],\"pie\":[{\"automargin\":true,\"type\":\"pie\"}],\"scatter\":[{\"marker\":{\"colorbar\":{\"outlinewidth\":0,\"ticks\":\"\"}},\"type\":\"scatter\"}],\"scatter3d\":[{\"line\":{\"colorbar\":{\"outlinewidth\":0,\"ticks\":\"\"}},\"marker\":{\"colorbar\":{\"outlinewidth\":0,\"ticks\":\"\"}},\"type\":\"scatter3d\"}],\"scattercarpet\":[{\"marker\":{\"colorbar\":{\"outlinewidth\":0,\"ticks\":\"\"}},\"type\":\"scattercarpet\"}],\"scattergeo\":[{\"marker\":{\"colorbar\":{\"outlinewidth\":0,\"ticks\":\"\"}},\"type\":\"scattergeo\"}],\"scattergl\":[{\"marker\":{\"colorbar\":{\"outlinewidth\":0,\"ticks\":\"\"}},\"type\":\"scattergl\"}],\"scattermapbox\":[{\"marker\":{\"colorbar\":{\"outlinewidth\":0,\"ticks\":\"\"}},\"type\":\"scattermapbox\"}],\"scatterpolar\":[{\"marker\":{\"colorbar\":{\"outlinewidth\":0,\"ticks\":\"\"}},\"type\":\"scatterpolar\"}],\"scatterpolargl\":[{\"marker\":{\"colorbar\":{\"outlinewidth\":0,\"ticks\":\"\"}},\"type\":\"scatterpolargl\"}],\"scatterternary\":[{\"marker\":{\"colorbar\":{\"outlinewidth\":0,\"ticks\":\"\"}},\"type\":\"scatterternary\"}],\"surface\":[{\"colorbar\":{\"outlinewidth\":0,\"ticks\":\"\"},\"colorscale\":[[0.0,\"#0d0887\"],[0.1111111111111111,\"#46039f\"],[0.2222222222222222,\"#7201a8\"],[0.3333333333333333,\"#9c179e\"],[0.4444444444444444,\"#bd3786\"],[0.5555555555555556,\"#d8576b\"],[0.6666666666666666,\"#ed7953\"],[0.7777777777777778,\"#fb9f3a\"],[0.8888888888888888,\"#fdca26\"],[1.0,\"#f0f921\"]],\"type\":\"surface\"}],\"table\":[{\"cells\":{\"fill\":{\"color\":\"#EBF0F8\"},\"line\":{\"color\":\"white\"}},\"header\":{\"fill\":{\"color\":\"#C8D4E3\"},\"line\":{\"color\":\"white\"}},\"type\":\"table\"}]},\"layout\":{\"annotationdefaults\":{\"arrowcolor\":\"#2a3f5f\",\"arrowhead\":0,\"arrowwidth\":1},\"autotypenumbers\":\"strict\",\"coloraxis\":{\"colorbar\":{\"outlinewidth\":0,\"ticks\":\"\"}},\"colorscale\":{\"diverging\":[[0,\"#8e0152\"],[0.1,\"#c51b7d\"],[0.2,\"#de77ae\"],[0.3,\"#f1b6da\"],[0.4,\"#fde0ef\"],[0.5,\"#f7f7f7\"],[0.6,\"#e6f5d0\"],[0.7,\"#b8e186\"],[0.8,\"#7fbc41\"],[0.9,\"#4d9221\"],[1,\"#276419\"]],\"sequential\":[[0.0,\"#0d0887\"],[0.1111111111111111,\"#46039f\"],[0.2222222222222222,\"#7201a8\"],[0.3333333333333333,\"#9c179e\"],[0.4444444444444444,\"#bd3786\"],[0.5555555555555556,\"#d8576b\"],[0.6666666666666666,\"#ed7953\"],[0.7777777777777778,\"#fb9f3a\"],[0.8888888888888888,\"#fdca26\"],[1.0,\"#f0f921\"]],\"sequentialminus\":[[0.0,\"#0d0887\"],[0.1111111111111111,\"#46039f\"],[0.2222222222222222,\"#7201a8\"],[0.3333333333333333,\"#9c179e\"],[0.4444444444444444,\"#bd3786\"],[0.5555555555555556,\"#d8576b\"],[0.6666666666666666,\"#ed7953\"],[0.7777777777777778,\"#fb9f3a\"],[0.8888888888888888,\"#fdca26\"],[1.0,\"#f0f921\"]]},\"colorway\":[\"#636efa\",\"#EF553B\",\"#00cc96\",\"#ab63fa\",\"#FFA15A\",\"#19d3f3\",\"#FF6692\",\"#B6E880\",\"#FF97FF\",\"#FECB52\"],\"font\":{\"color\":\"#2a3f5f\"},\"geo\":{\"bgcolor\":\"white\",\"lakecolor\":\"white\",\"landcolor\":\"#E5ECF6\",\"showlakes\":true,\"showland\":true,\"subunitcolor\":\"white\"},\"hoverlabel\":{\"align\":\"left\"},\"hovermode\":\"closest\",\"mapbox\":{\"style\":\"light\"},\"paper_bgcolor\":\"white\",\"plot_bgcolor\":\"#E5ECF6\",\"polar\":{\"angularaxis\":{\"gridcolor\":\"white\",\"linecolor\":\"white\",\"ticks\":\"\"},\"bgcolor\":\"#E5ECF6\",\"radialaxis\":{\"gridcolor\":\"white\",\"linecolor\":\"white\",\"ticks\":\"\"}},\"scene\":{\"xaxis\":{\"backgroundcolor\":\"#E5ECF6\",\"gridcolor\":\"white\",\"gridwidth\":2,\"linecolor\":\"white\",\"showbackground\":true,\"ticks\":\"\",\"zerolinecolor\":\"white\"},\"yaxis\":{\"backgroundcolor\":\"#E5ECF6\",\"gridcolor\":\"white\",\"gridwidth\":2,\"linecolor\":\"white\",\"showbackground\":true,\"ticks\":\"\",\"zerolinecolor\":\"white\"},\"zaxis\":{\"backgroundcolor\":\"#E5ECF6\",\"gridcolor\":\"white\",\"gridwidth\":2,\"linecolor\":\"white\",\"showbackground\":true,\"ticks\":\"\",\"zerolinecolor\":\"white\"}},\"shapedefaults\":{\"line\":{\"color\":\"#2a3f5f\"}},\"ternary\":{\"aaxis\":{\"gridcolor\":\"white\",\"linecolor\":\"white\",\"ticks\":\"\"},\"baxis\":{\"gridcolor\":\"white\",\"linecolor\":\"white\",\"ticks\":\"\"},\"bgcolor\":\"#E5ECF6\",\"caxis\":{\"gridcolor\":\"white\",\"linecolor\":\"white\",\"ticks\":\"\"}},\"title\":{\"x\":0.05},\"xaxis\":{\"automargin\":true,\"gridcolor\":\"white\",\"linecolor\":\"white\",\"ticks\":\"\",\"title\":{\"standoff\":15},\"zerolinecolor\":\"white\",\"zerolinewidth\":2},\"yaxis\":{\"automargin\":true,\"gridcolor\":\"white\",\"linecolor\":\"white\",\"ticks\":\"\",\"title\":{\"standoff\":15},\"zerolinecolor\":\"white\",\"zerolinewidth\":2}}},\"xaxis\":{\"anchor\":\"y\",\"domain\":[0.0,1.0],\"scaleanchor\":\"y\",\"constrain\":\"domain\"},\"yaxis\":{\"anchor\":\"x\",\"domain\":[0.0,1.0],\"autorange\":\"reversed\",\"constrain\":\"domain\"},\"coloraxis\":{\"colorscale\":[[0.0,\"#0d0887\"],[0.1111111111111111,\"#46039f\"],[0.2222222222222222,\"#7201a8\"],[0.3333333333333333,\"#9c179e\"],[0.4444444444444444,\"#bd3786\"],[0.5555555555555556,\"#d8576b\"],[0.6666666666666666,\"#ed7953\"],[0.7777777777777778,\"#fb9f3a\"],[0.8888888888888888,\"#fdca26\"],[1.0,\"#f0f921\"]]},\"margin\":{\"t\":60}},                        {\"responsive\": true}                    ).then(function(){\n",
              "                            \n",
              "var gd = document.getElementById('b268d3de-4c80-4db8-8dc2-67bd71f61198');\n",
              "var x = new MutationObserver(function (mutations, observer) {{\n",
              "        var display = window.getComputedStyle(gd).display;\n",
              "        if (!display || display === 'none') {{\n",
              "            console.log([gd, 'removed!']);\n",
              "            Plotly.purge(gd);\n",
              "            observer.disconnect();\n",
              "        }}\n",
              "}});\n",
              "\n",
              "// Listen for the removal of the full notebook cells\n",
              "var notebookContainer = gd.closest('#notebook-container');\n",
              "if (notebookContainer) {{\n",
              "    x.observe(notebookContainer, {childList: true});\n",
              "}}\n",
              "\n",
              "// Listen for the clearing of the current output cell\n",
              "var outputEl = gd.closest('.output');\n",
              "if (outputEl) {{\n",
              "    x.observe(outputEl, {childList: true});\n",
              "}}\n",
              "\n",
              "                        })                };                            </script>        </div>\n",
              "</body>\n",
              "</html>"
            ]
          },
          "metadata": {}
        }
      ]
    },
    {
      "cell_type": "markdown",
      "source": [
        "### Determine the number of samples present in the data, unique elements in all the features"
      ],
      "metadata": {
        "id": "uCYZzUyXYWVw"
      }
    },
    {
      "cell_type": "code",
      "source": [
        "cybersecurity_final_data.shape"
      ],
      "metadata": {
        "colab": {
          "base_uri": "https://localhost:8080/"
        },
        "id": "j6NMyoiIaQmj",
        "outputId": "f008e02a-1a8c-4cd3-b605-e30fdd15a723"
      },
      "execution_count": 28,
      "outputs": [
        {
          "output_type": "execute_result",
          "data": {
            "text/plain": [
              "(11055, 31)"
            ]
          },
          "metadata": {},
          "execution_count": 28
        }
      ]
    },
    {
      "cell_type": "code",
      "source": [
        "for i in cybersecurity_final_data.columns:\n",
        "  print(\"{}\\t{}\\n\".format(i, cybersecurity_final_data[i].unique()))"
      ],
      "metadata": {
        "colab": {
          "base_uri": "https://localhost:8080/"
        },
        "id": "nmcKOhnPaW3I",
        "outputId": "a096dd73-d844-4909-af74-682dbc9ec6f8"
      },
      "execution_count": 29,
      "outputs": [
        {
          "output_type": "stream",
          "name": "stdout",
          "text": [
            "having_IPhaving_IP_Address\t[-1  1]\n",
            "\n",
            "URLURL_Length\t[ 1  0 -1]\n",
            "\n",
            "Shortining_Service\t[ 1 -1]\n",
            "\n",
            "having_At_Symbol\t[ 1 -1]\n",
            "\n",
            "double_slash_redirecting\t[-1  1]\n",
            "\n",
            "Prefix_Suffix\t[-1  1]\n",
            "\n",
            "having_Sub_Domain\t[-1  0  1]\n",
            "\n",
            "SSLfinal_State\t[-1  1  0]\n",
            "\n",
            "Domain_registeration_length\t[-1  1]\n",
            "\n",
            "Favicon\t[ 1 -1]\n",
            "\n",
            "port\t[ 1 -1]\n",
            "\n",
            "HTTPS_token\t[-1  1]\n",
            "\n",
            "Request_URL\t[ 1 -1]\n",
            "\n",
            "URL_of_Anchor\t[-1  0  1]\n",
            "\n",
            "Links_in_tags\t[ 1 -1  0]\n",
            "\n",
            "SFH\t[-1  1  0]\n",
            "\n",
            "Submitting_to_email\t[-1  1]\n",
            "\n",
            "Abnormal_URL\t[-1  1]\n",
            "\n",
            "Redirect\t[0 1]\n",
            "\n",
            "on_mouseover\t[ 1 -1]\n",
            "\n",
            "RightClick\t[ 1 -1]\n",
            "\n",
            "popUpWidnow\t[ 1 -1]\n",
            "\n",
            "Iframe\t[ 1 -1]\n",
            "\n",
            "age_of_domain\t[-1  1]\n",
            "\n",
            "DNSRecord\t[-1  1]\n",
            "\n",
            "web_traffic\t[-1  0  1]\n",
            "\n",
            "Page_Rank\t[-1  1]\n",
            "\n",
            "Google_Index\t[ 1 -1]\n",
            "\n",
            "Links_pointing_to_page\t[ 1  0 -1]\n",
            "\n",
            "Statistical_report\t[-1  1]\n",
            "\n",
            "Result\t[-1  1]\n",
            "\n"
          ]
        }
      ]
    },
    {
      "cell_type": "markdown",
      "source": [
        "### Check if there is any null value in any features"
      ],
      "metadata": {
        "id": "XkrXIK4TYY3M"
      }
    },
    {
      "cell_type": "code",
      "source": [
        "cybersecurity_final_data.isnull().sum()"
      ],
      "metadata": {
        "colab": {
          "base_uri": "https://localhost:8080/"
        },
        "id": "9fqbkQilax9k",
        "outputId": "e2c4d7ad-6a60-4918-fe9c-453ecdb2c898"
      },
      "execution_count": 30,
      "outputs": [
        {
          "output_type": "execute_result",
          "data": {
            "text/plain": [
              "having_IPhaving_IP_Address     0\n",
              "URLURL_Length                  0\n",
              "Shortining_Service             0\n",
              "having_At_Symbol               0\n",
              "double_slash_redirecting       0\n",
              "Prefix_Suffix                  0\n",
              "having_Sub_Domain              0\n",
              "SSLfinal_State                 0\n",
              "Domain_registeration_length    0\n",
              "Favicon                        0\n",
              "port                           0\n",
              "HTTPS_token                    0\n",
              "Request_URL                    0\n",
              "URL_of_Anchor                  0\n",
              "Links_in_tags                  0\n",
              "SFH                            0\n",
              "Submitting_to_email            0\n",
              "Abnormal_URL                   0\n",
              "Redirect                       0\n",
              "on_mouseover                   0\n",
              "RightClick                     0\n",
              "popUpWidnow                    0\n",
              "Iframe                         0\n",
              "age_of_domain                  0\n",
              "DNSRecord                      0\n",
              "web_traffic                    0\n",
              "Page_Rank                      0\n",
              "Google_Index                   0\n",
              "Links_pointing_to_page         0\n",
              "Statistical_report             0\n",
              "Result                         0\n",
              "dtype: int64"
            ]
          },
          "metadata": {},
          "execution_count": 30
        }
      ]
    },
    {
      "cell_type": "markdown",
      "source": [
        "## Correlation of features and feature selection"
      ],
      "metadata": {
        "id": "xnw6VvMYYc4K"
      }
    },
    {
      "cell_type": "markdown",
      "source": [
        "### Next, we have to find if there are any correlated features present in the data. Remove the feature which might be correlated with some threshold"
      ],
      "metadata": {
        "id": "46ZzcZq3Ygju"
      }
    },
    {
      "cell_type": "code",
      "source": [
        "def corr_based_feature_drop(data, threshold):\n",
        "  data = data.corr().replace(1, 0)\n",
        "  cp = {}\n",
        "\n",
        "  for i in data.columns:\n",
        "    cd = data[(data > threshold) | (data < -threshold)][i].dropna()\n",
        "\n",
        "    if len(cd.to_dict()) > 0:\n",
        "      cp[cd.name] = cd.to_dict()\n",
        "\n",
        "  return cp"
      ],
      "metadata": {
        "id": "zrFR5qEOa910"
      },
      "execution_count": 33,
      "outputs": []
    },
    {
      "cell_type": "code",
      "source": [
        "corr_dic = corr_based_feature_drop(cybersecurity_final_data, 0.7)\n",
        "corr_dic"
      ],
      "metadata": {
        "colab": {
          "base_uri": "https://localhost:8080/"
        },
        "id": "vcvC5ymXciWB",
        "outputId": "f1c68b5b-c539-4834-a2dc-9a76480d01aa"
      },
      "execution_count": 42,
      "outputs": [
        {
          "output_type": "execute_result",
          "data": {
            "text/plain": [
              "{'Shortining_Service': {'double_slash_redirecting': 0.8427956224053693,\n",
              "  'HTTPS_token': 0.7578377011863667,\n",
              "  'Abnormal_URL': 0.7392895720500711},\n",
              " 'double_slash_redirecting': {'Shortining_Service': 0.8427956224053693,\n",
              "  'HTTPS_token': 0.7607993984925642,\n",
              "  'Abnormal_URL': 0.723723562943395},\n",
              " 'SSLfinal_State': {'Result': 0.7147411951750106},\n",
              " 'Favicon': {'port': 0.8038335605408589,\n",
              "  'on_mouseover': 0.7061793318028395,\n",
              "  'popUpWidnow': 0.9396329249822858},\n",
              " 'port': {'Favicon': 0.8038335605408589,\n",
              "  'Submitting_to_email': 0.7990881592665705,\n",
              "  'popUpWidnow': 0.748517173082484},\n",
              " 'HTTPS_token': {'Shortining_Service': 0.7578377011863667,\n",
              "  'double_slash_redirecting': 0.7607993984925642,\n",
              "  'Abnormal_URL': 0.7162873674452148},\n",
              " 'Submitting_to_email': {'port': 0.7990881592665705},\n",
              " 'Abnormal_URL': {'Shortining_Service': 0.7392895720500711,\n",
              "  'double_slash_redirecting': 0.723723562943395,\n",
              "  'HTTPS_token': 0.7162873674452148},\n",
              " 'on_mouseover': {'Favicon': 0.7061793318028395,\n",
              "  'popUpWidnow': 0.7336287976291613},\n",
              " 'popUpWidnow': {'Favicon': 0.9396329249822858,\n",
              "  'port': 0.748517173082484,\n",
              "  'on_mouseover': 0.7336287976291613},\n",
              " 'Result': {'SSLfinal_State': 0.7147411951750106}}"
            ]
          },
          "metadata": {},
          "execution_count": 42
        }
      ]
    },
    {
      "cell_type": "code",
      "source": [
        "x = cybersecurity_final_data.columns\n",
        "y = 0\n",
        "\n",
        "count_dic = dict.fromkeys(x, y)\n",
        "# count_dic\n",
        "\n",
        "for key,value in corr_dic.items():\n",
        "  count_dic[key] += 1\n",
        "\n",
        "  for each_key in value.keys():\n",
        "    count_dic[each_key] = 1"
      ],
      "metadata": {
        "id": "Lg6LcVHLc_4a"
      },
      "execution_count": 43,
      "outputs": []
    },
    {
      "cell_type": "code",
      "source": [
        "count_dic"
      ],
      "metadata": {
        "colab": {
          "base_uri": "https://localhost:8080/"
        },
        "id": "gJRR33GDex_Z",
        "outputId": "ef395320-cb21-49f9-a635-f836fd8437ea"
      },
      "execution_count": 44,
      "outputs": [
        {
          "output_type": "execute_result",
          "data": {
            "text/plain": [
              "{'having_IPhaving_IP_Address': 0,\n",
              " 'URLURL_Length': 0,\n",
              " 'Shortining_Service': 1,\n",
              " 'having_At_Symbol': 0,\n",
              " 'double_slash_redirecting': 1,\n",
              " 'Prefix_Suffix': 0,\n",
              " 'having_Sub_Domain': 0,\n",
              " 'SSLfinal_State': 1,\n",
              " 'Domain_registeration_length': 0,\n",
              " 'Favicon': 1,\n",
              " 'port': 1,\n",
              " 'HTTPS_token': 1,\n",
              " 'Request_URL': 0,\n",
              " 'URL_of_Anchor': 0,\n",
              " 'Links_in_tags': 0,\n",
              " 'SFH': 0,\n",
              " 'Submitting_to_email': 2,\n",
              " 'Abnormal_URL': 2,\n",
              " 'Redirect': 0,\n",
              " 'on_mouseover': 1,\n",
              " 'RightClick': 0,\n",
              " 'popUpWidnow': 2,\n",
              " 'Iframe': 0,\n",
              " 'age_of_domain': 0,\n",
              " 'DNSRecord': 0,\n",
              " 'web_traffic': 0,\n",
              " 'Page_Rank': 0,\n",
              " 'Google_Index': 0,\n",
              " 'Links_pointing_to_page': 0,\n",
              " 'Statistical_report': 0,\n",
              " 'Result': 2}"
            ]
          },
          "metadata": {},
          "execution_count": 44
        }
      ]
    },
    {
      "cell_type": "code",
      "source": [
        "def corr_based_feature_drop_2(data, threshold):\n",
        "  data = data.corr().replace(1, 0)\n",
        "  cp = {}\n",
        "\n",
        "  for i in data.columns:\n",
        "    cd = data[(data > threshold) | (data < -threshold)][i].dropna()\n",
        "\n",
        "    if len(cd.to_dict()) > 0:\n",
        "      cp[cd.name] = cd.to_dict()\n",
        "\n",
        "  x = data.columns\n",
        "  y = 0\n",
        "\n",
        "  count_dic = dict.fromkeys(x, y)\n",
        "\n",
        "  for key,value in cp.items():\n",
        "    count_dic[key] += 1\n",
        "\n",
        "    for each_key in value.keys():\n",
        "      count_dic[each_key] = 1\n",
        "\n",
        "  return cp, count_dic"
      ],
      "metadata": {
        "id": "jwgSHGHKe22Z"
      },
      "execution_count": 52,
      "outputs": []
    },
    {
      "cell_type": "code",
      "source": [
        "corr_dic_2, counts = corr_based_feature_drop_2(cybersecurity_final_data, 0.7)\n",
        "corr_dic_2"
      ],
      "metadata": {
        "colab": {
          "base_uri": "https://localhost:8080/"
        },
        "id": "cRq4_A2KfBdY",
        "outputId": "efd48fd6-18d3-4fe1-e7f5-100b12d88ebc"
      },
      "execution_count": 53,
      "outputs": [
        {
          "output_type": "execute_result",
          "data": {
            "text/plain": [
              "{'Shortining_Service': {'double_slash_redirecting': 0.8427956224053693,\n",
              "  'HTTPS_token': 0.7578377011863667,\n",
              "  'Abnormal_URL': 0.7392895720500711},\n",
              " 'double_slash_redirecting': {'Shortining_Service': 0.8427956224053693,\n",
              "  'HTTPS_token': 0.7607993984925642,\n",
              "  'Abnormal_URL': 0.723723562943395},\n",
              " 'SSLfinal_State': {'Result': 0.7147411951750106},\n",
              " 'Favicon': {'port': 0.8038335605408589,\n",
              "  'on_mouseover': 0.7061793318028395,\n",
              "  'popUpWidnow': 0.9396329249822858},\n",
              " 'port': {'Favicon': 0.8038335605408589,\n",
              "  'Submitting_to_email': 0.7990881592665705,\n",
              "  'popUpWidnow': 0.748517173082484},\n",
              " 'HTTPS_token': {'Shortining_Service': 0.7578377011863667,\n",
              "  'double_slash_redirecting': 0.7607993984925642,\n",
              "  'Abnormal_URL': 0.7162873674452148},\n",
              " 'Submitting_to_email': {'port': 0.7990881592665705},\n",
              " 'Abnormal_URL': {'Shortining_Service': 0.7392895720500711,\n",
              "  'double_slash_redirecting': 0.723723562943395,\n",
              "  'HTTPS_token': 0.7162873674452148},\n",
              " 'on_mouseover': {'Favicon': 0.7061793318028395,\n",
              "  'popUpWidnow': 0.7336287976291613},\n",
              " 'popUpWidnow': {'Favicon': 0.9396329249822858,\n",
              "  'port': 0.748517173082484,\n",
              "  'on_mouseover': 0.7336287976291613},\n",
              " 'Result': {'SSLfinal_State': 0.7147411951750106}}"
            ]
          },
          "metadata": {},
          "execution_count": 53
        }
      ]
    },
    {
      "cell_type": "code",
      "source": [
        "counts"
      ],
      "metadata": {
        "colab": {
          "base_uri": "https://localhost:8080/"
        },
        "id": "NEpw2DfHfdz4",
        "outputId": "d8bc2b53-9bd9-4af2-802d-da5a4af506e2"
      },
      "execution_count": 62,
      "outputs": [
        {
          "output_type": "execute_result",
          "data": {
            "text/plain": [
              "{'having_IPhaving_IP_Address': 0,\n",
              " 'URLURL_Length': 0,\n",
              " 'Shortining_Service': 1,\n",
              " 'having_At_Symbol': 0,\n",
              " 'double_slash_redirecting': 1,\n",
              " 'Prefix_Suffix': 0,\n",
              " 'having_Sub_Domain': 0,\n",
              " 'SSLfinal_State': 1,\n",
              " 'Domain_registeration_length': 0,\n",
              " 'Favicon': 1,\n",
              " 'port': 1,\n",
              " 'HTTPS_token': 1,\n",
              " 'Request_URL': 0,\n",
              " 'URL_of_Anchor': 0,\n",
              " 'Links_in_tags': 0,\n",
              " 'SFH': 0,\n",
              " 'Submitting_to_email': 2,\n",
              " 'Abnormal_URL': 2,\n",
              " 'Redirect': 0,\n",
              " 'on_mouseover': 1,\n",
              " 'RightClick': 0,\n",
              " 'popUpWidnow': 2,\n",
              " 'Iframe': 0,\n",
              " 'age_of_domain': 0,\n",
              " 'DNSRecord': 0,\n",
              " 'web_traffic': 0,\n",
              " 'Page_Rank': 0,\n",
              " 'Google_Index': 0,\n",
              " 'Links_pointing_to_page': 0,\n",
              " 'Statistical_report': 0,\n",
              " 'Result': 2}"
            ]
          },
          "metadata": {},
          "execution_count": 62
        }
      ]
    },
    {
      "cell_type": "code",
      "source": [
        "len(counts)"
      ],
      "metadata": {
        "colab": {
          "base_uri": "https://localhost:8080/"
        },
        "id": "f3l8304SgVK8",
        "outputId": "ac221edb-a18d-4116-e51b-2bcebf146fb6"
      },
      "execution_count": 61,
      "outputs": [
        {
          "output_type": "execute_result",
          "data": {
            "text/plain": [
              "31"
            ]
          },
          "metadata": {},
          "execution_count": 61
        }
      ]
    },
    {
      "cell_type": "code",
      "source": [
        "cybersecurity_final_data_modelling = cybersecurity_final_data\n",
        "for key,value in counts.items():\n",
        "  if(value > 0 and key != 'Result'):\n",
        "    cybersecurity_final_data_modelling = cybersecurity_final_data_modelling.drop(key, axis=1)\n",
        "\n",
        "cybersecurity_final_data_modelling.head()"
      ],
      "metadata": {
        "colab": {
          "base_uri": "https://localhost:8080/",
          "height": 300
        },
        "id": "qn2HhxE2gdom",
        "outputId": "4a680190-e8e0-464d-e21e-7d190f57c2a0"
      },
      "execution_count": 72,
      "outputs": [
        {
          "output_type": "execute_result",
          "data": {
            "text/plain": [
              "   having_IPhaving_IP_Address  URLURL_Length  having_At_Symbol  Prefix_Suffix  \\\n",
              "0                          -1              1                 1             -1   \n",
              "1                           1              1                 1             -1   \n",
              "2                           1              0                 1             -1   \n",
              "3                           1              0                 1             -1   \n",
              "4                           1              0                 1             -1   \n",
              "\n",
              "   having_Sub_Domain  Domain_registeration_length  Request_URL  URL_of_Anchor  \\\n",
              "0                 -1                           -1            1             -1   \n",
              "1                  0                           -1            1              0   \n",
              "2                 -1                           -1            1              0   \n",
              "3                 -1                            1           -1              0   \n",
              "4                  1                           -1            1              0   \n",
              "\n",
              "   Links_in_tags  SFH  ...  RightClick  Iframe  age_of_domain  DNSRecord  \\\n",
              "0              1   -1  ...           1       1             -1         -1   \n",
              "1             -1   -1  ...           1       1             -1         -1   \n",
              "2             -1   -1  ...           1       1              1         -1   \n",
              "3              0   -1  ...           1       1             -1         -1   \n",
              "4              0   -1  ...           1       1             -1         -1   \n",
              "\n",
              "   web_traffic  Page_Rank  Google_Index  Links_pointing_to_page  \\\n",
              "0           -1         -1             1                       1   \n",
              "1            0         -1             1                       1   \n",
              "2            1         -1             1                       0   \n",
              "3            1         -1             1                      -1   \n",
              "4            0         -1             1                       1   \n",
              "\n",
              "   Statistical_report  Result  \n",
              "0                  -1      -1  \n",
              "1                   1      -1  \n",
              "2                  -1      -1  \n",
              "3                   1      -1  \n",
              "4                   1       1  \n",
              "\n",
              "[5 rows x 21 columns]"
            ],
            "text/html": [
              "\n",
              "  <div id=\"df-0f90c438-27e0-499e-a52d-a188ea40c069\">\n",
              "    <div class=\"colab-df-container\">\n",
              "      <div>\n",
              "<style scoped>\n",
              "    .dataframe tbody tr th:only-of-type {\n",
              "        vertical-align: middle;\n",
              "    }\n",
              "\n",
              "    .dataframe tbody tr th {\n",
              "        vertical-align: top;\n",
              "    }\n",
              "\n",
              "    .dataframe thead th {\n",
              "        text-align: right;\n",
              "    }\n",
              "</style>\n",
              "<table border=\"1\" class=\"dataframe\">\n",
              "  <thead>\n",
              "    <tr style=\"text-align: right;\">\n",
              "      <th></th>\n",
              "      <th>having_IPhaving_IP_Address</th>\n",
              "      <th>URLURL_Length</th>\n",
              "      <th>having_At_Symbol</th>\n",
              "      <th>Prefix_Suffix</th>\n",
              "      <th>having_Sub_Domain</th>\n",
              "      <th>Domain_registeration_length</th>\n",
              "      <th>Request_URL</th>\n",
              "      <th>URL_of_Anchor</th>\n",
              "      <th>Links_in_tags</th>\n",
              "      <th>SFH</th>\n",
              "      <th>...</th>\n",
              "      <th>RightClick</th>\n",
              "      <th>Iframe</th>\n",
              "      <th>age_of_domain</th>\n",
              "      <th>DNSRecord</th>\n",
              "      <th>web_traffic</th>\n",
              "      <th>Page_Rank</th>\n",
              "      <th>Google_Index</th>\n",
              "      <th>Links_pointing_to_page</th>\n",
              "      <th>Statistical_report</th>\n",
              "      <th>Result</th>\n",
              "    </tr>\n",
              "  </thead>\n",
              "  <tbody>\n",
              "    <tr>\n",
              "      <th>0</th>\n",
              "      <td>-1</td>\n",
              "      <td>1</td>\n",
              "      <td>1</td>\n",
              "      <td>-1</td>\n",
              "      <td>-1</td>\n",
              "      <td>-1</td>\n",
              "      <td>1</td>\n",
              "      <td>-1</td>\n",
              "      <td>1</td>\n",
              "      <td>-1</td>\n",
              "      <td>...</td>\n",
              "      <td>1</td>\n",
              "      <td>1</td>\n",
              "      <td>-1</td>\n",
              "      <td>-1</td>\n",
              "      <td>-1</td>\n",
              "      <td>-1</td>\n",
              "      <td>1</td>\n",
              "      <td>1</td>\n",
              "      <td>-1</td>\n",
              "      <td>-1</td>\n",
              "    </tr>\n",
              "    <tr>\n",
              "      <th>1</th>\n",
              "      <td>1</td>\n",
              "      <td>1</td>\n",
              "      <td>1</td>\n",
              "      <td>-1</td>\n",
              "      <td>0</td>\n",
              "      <td>-1</td>\n",
              "      <td>1</td>\n",
              "      <td>0</td>\n",
              "      <td>-1</td>\n",
              "      <td>-1</td>\n",
              "      <td>...</td>\n",
              "      <td>1</td>\n",
              "      <td>1</td>\n",
              "      <td>-1</td>\n",
              "      <td>-1</td>\n",
              "      <td>0</td>\n",
              "      <td>-1</td>\n",
              "      <td>1</td>\n",
              "      <td>1</td>\n",
              "      <td>1</td>\n",
              "      <td>-1</td>\n",
              "    </tr>\n",
              "    <tr>\n",
              "      <th>2</th>\n",
              "      <td>1</td>\n",
              "      <td>0</td>\n",
              "      <td>1</td>\n",
              "      <td>-1</td>\n",
              "      <td>-1</td>\n",
              "      <td>-1</td>\n",
              "      <td>1</td>\n",
              "      <td>0</td>\n",
              "      <td>-1</td>\n",
              "      <td>-1</td>\n",
              "      <td>...</td>\n",
              "      <td>1</td>\n",
              "      <td>1</td>\n",
              "      <td>1</td>\n",
              "      <td>-1</td>\n",
              "      <td>1</td>\n",
              "      <td>-1</td>\n",
              "      <td>1</td>\n",
              "      <td>0</td>\n",
              "      <td>-1</td>\n",
              "      <td>-1</td>\n",
              "    </tr>\n",
              "    <tr>\n",
              "      <th>3</th>\n",
              "      <td>1</td>\n",
              "      <td>0</td>\n",
              "      <td>1</td>\n",
              "      <td>-1</td>\n",
              "      <td>-1</td>\n",
              "      <td>1</td>\n",
              "      <td>-1</td>\n",
              "      <td>0</td>\n",
              "      <td>0</td>\n",
              "      <td>-1</td>\n",
              "      <td>...</td>\n",
              "      <td>1</td>\n",
              "      <td>1</td>\n",
              "      <td>-1</td>\n",
              "      <td>-1</td>\n",
              "      <td>1</td>\n",
              "      <td>-1</td>\n",
              "      <td>1</td>\n",
              "      <td>-1</td>\n",
              "      <td>1</td>\n",
              "      <td>-1</td>\n",
              "    </tr>\n",
              "    <tr>\n",
              "      <th>4</th>\n",
              "      <td>1</td>\n",
              "      <td>0</td>\n",
              "      <td>1</td>\n",
              "      <td>-1</td>\n",
              "      <td>1</td>\n",
              "      <td>-1</td>\n",
              "      <td>1</td>\n",
              "      <td>0</td>\n",
              "      <td>0</td>\n",
              "      <td>-1</td>\n",
              "      <td>...</td>\n",
              "      <td>1</td>\n",
              "      <td>1</td>\n",
              "      <td>-1</td>\n",
              "      <td>-1</td>\n",
              "      <td>0</td>\n",
              "      <td>-1</td>\n",
              "      <td>1</td>\n",
              "      <td>1</td>\n",
              "      <td>1</td>\n",
              "      <td>1</td>\n",
              "    </tr>\n",
              "  </tbody>\n",
              "</table>\n",
              "<p>5 rows × 21 columns</p>\n",
              "</div>\n",
              "      <button class=\"colab-df-convert\" onclick=\"convertToInteractive('df-0f90c438-27e0-499e-a52d-a188ea40c069')\"\n",
              "              title=\"Convert this dataframe to an interactive table.\"\n",
              "              style=\"display:none;\">\n",
              "        \n",
              "  <svg xmlns=\"http://www.w3.org/2000/svg\" height=\"24px\"viewBox=\"0 0 24 24\"\n",
              "       width=\"24px\">\n",
              "    <path d=\"M0 0h24v24H0V0z\" fill=\"none\"/>\n",
              "    <path d=\"M18.56 5.44l.94 2.06.94-2.06 2.06-.94-2.06-.94-.94-2.06-.94 2.06-2.06.94zm-11 1L8.5 8.5l.94-2.06 2.06-.94-2.06-.94L8.5 2.5l-.94 2.06-2.06.94zm10 10l.94 2.06.94-2.06 2.06-.94-2.06-.94-.94-2.06-.94 2.06-2.06.94z\"/><path d=\"M17.41 7.96l-1.37-1.37c-.4-.4-.92-.59-1.43-.59-.52 0-1.04.2-1.43.59L10.3 9.45l-7.72 7.72c-.78.78-.78 2.05 0 2.83L4 21.41c.39.39.9.59 1.41.59.51 0 1.02-.2 1.41-.59l7.78-7.78 2.81-2.81c.8-.78.8-2.07 0-2.86zM5.41 20L4 18.59l7.72-7.72 1.47 1.35L5.41 20z\"/>\n",
              "  </svg>\n",
              "      </button>\n",
              "      \n",
              "  <style>\n",
              "    .colab-df-container {\n",
              "      display:flex;\n",
              "      flex-wrap:wrap;\n",
              "      gap: 12px;\n",
              "    }\n",
              "\n",
              "    .colab-df-convert {\n",
              "      background-color: #E8F0FE;\n",
              "      border: none;\n",
              "      border-radius: 50%;\n",
              "      cursor: pointer;\n",
              "      display: none;\n",
              "      fill: #1967D2;\n",
              "      height: 32px;\n",
              "      padding: 0 0 0 0;\n",
              "      width: 32px;\n",
              "    }\n",
              "\n",
              "    .colab-df-convert:hover {\n",
              "      background-color: #E2EBFA;\n",
              "      box-shadow: 0px 1px 2px rgba(60, 64, 67, 0.3), 0px 1px 3px 1px rgba(60, 64, 67, 0.15);\n",
              "      fill: #174EA6;\n",
              "    }\n",
              "\n",
              "    [theme=dark] .colab-df-convert {\n",
              "      background-color: #3B4455;\n",
              "      fill: #D2E3FC;\n",
              "    }\n",
              "\n",
              "    [theme=dark] .colab-df-convert:hover {\n",
              "      background-color: #434B5C;\n",
              "      box-shadow: 0px 1px 3px 1px rgba(0, 0, 0, 0.15);\n",
              "      filter: drop-shadow(0px 1px 2px rgba(0, 0, 0, 0.3));\n",
              "      fill: #FFFFFF;\n",
              "    }\n",
              "  </style>\n",
              "\n",
              "      <script>\n",
              "        const buttonEl =\n",
              "          document.querySelector('#df-0f90c438-27e0-499e-a52d-a188ea40c069 button.colab-df-convert');\n",
              "        buttonEl.style.display =\n",
              "          google.colab.kernel.accessAllowed ? 'block' : 'none';\n",
              "\n",
              "        async function convertToInteractive(key) {\n",
              "          const element = document.querySelector('#df-0f90c438-27e0-499e-a52d-a188ea40c069');\n",
              "          const dataTable =\n",
              "            await google.colab.kernel.invokeFunction('convertToInteractive',\n",
              "                                                     [key], {});\n",
              "          if (!dataTable) return;\n",
              "\n",
              "          const docLinkHtml = 'Like what you see? Visit the ' +\n",
              "            '<a target=\"_blank\" href=https://colab.research.google.com/notebooks/data_table.ipynb>data table notebook</a>'\n",
              "            + ' to learn more about interactive tables.';\n",
              "          element.innerHTML = '';\n",
              "          dataTable['output_type'] = 'display_data';\n",
              "          await google.colab.output.renderOutput(dataTable, element);\n",
              "          const docLink = document.createElement('div');\n",
              "          docLink.innerHTML = docLinkHtml;\n",
              "          element.appendChild(docLink);\n",
              "        }\n",
              "      </script>\n",
              "    </div>\n",
              "  </div>\n",
              "  "
            ]
          },
          "metadata": {},
          "execution_count": 72
        }
      ]
    },
    {
      "cell_type": "markdown",
      "source": [
        "## Building Classification Model"
      ],
      "metadata": {
        "id": "IiuzEq3NbASi"
      }
    },
    {
      "cell_type": "markdown",
      "source": [
        "### Finally, build a robust classification system that classifies whether the URL sample is a phishing site or not"
      ],
      "metadata": {
        "id": "ndhLhHSsbFK2"
      }
    },
    {
      "cell_type": "markdown",
      "source": [
        "#### Build classification models using a binary classifier to detect malicious or phishing URLs"
      ],
      "metadata": {
        "id": "DctX9duwbLWR"
      }
    },
    {
      "cell_type": "markdown",
      "source": [
        "Logistic Regression Model"
      ],
      "metadata": {
        "id": "LiYU2P1bn37x"
      }
    },
    {
      "cell_type": "code",
      "source": [
        "from sklearn.linear_model import LogisticRegression\n",
        "from sklearn.model_selection import train_test_split\n",
        "\n",
        "X = cybersecurity_final_data_modelling.drop('Result', axis=1)\n",
        "y = cybersecurity_final_data_modelling.Result\n",
        "\n",
        "X_train, X_test, y_train, y_test = train_test_split(X, y, test_size=0.25, random_state=42)\n",
        "\n",
        "logistic_model = LogisticRegression()\n",
        "logistic_model.fit(X_train, y_train)\n",
        "\n",
        "logistic_model.score(X_test, y_test)"
      ],
      "metadata": {
        "colab": {
          "base_uri": "https://localhost:8080/"
        },
        "id": "nlTypggyhwAL",
        "outputId": "ab2ad064-e65a-4376-f717-609066f0de5a"
      },
      "execution_count": 74,
      "outputs": [
        {
          "output_type": "execute_result",
          "data": {
            "text/plain": [
              "0.8795224312590448"
            ]
          },
          "metadata": {},
          "execution_count": 74
        }
      ]
    },
    {
      "cell_type": "code",
      "source": [
        "y_pred_test = logistic_model.predict(X_test)\n",
        "y_pred_test"
      ],
      "metadata": {
        "colab": {
          "base_uri": "https://localhost:8080/"
        },
        "id": "IpMWluIbplXz",
        "outputId": "516898db-c07a-4db5-c0ad-711decafc2c2"
      },
      "execution_count": 78,
      "outputs": [
        {
          "output_type": "execute_result",
          "data": {
            "text/plain": [
              "array([-1, -1, -1, ...,  1,  1, -1])"
            ]
          },
          "metadata": {},
          "execution_count": 78
        }
      ]
    },
    {
      "cell_type": "markdown",
      "source": [
        "Random Forest Classifier"
      ],
      "metadata": {
        "id": "V9ouEPjsn6bm"
      }
    },
    {
      "cell_type": "code",
      "source": [
        "from sklearn.ensemble import RandomForestClassifier\n",
        "\n",
        "random_model = RandomForestClassifier(n_estimators=700)\n",
        "random_model.fit(X_train, y_train)\n",
        "\n",
        "random_model.score(X_test, y_test)"
      ],
      "metadata": {
        "colab": {
          "base_uri": "https://localhost:8080/"
        },
        "id": "kpblSP2snqkS",
        "outputId": "dbe1d86b-834c-40d1-b5ad-077741f34a1d"
      },
      "execution_count": 75,
      "outputs": [
        {
          "output_type": "execute_result",
          "data": {
            "text/plain": [
              "0.9464544138929089"
            ]
          },
          "metadata": {},
          "execution_count": 75
        }
      ]
    },
    {
      "cell_type": "code",
      "source": [
        "y_pred = random_model.predict(X_test)\n",
        "y_pred"
      ],
      "metadata": {
        "colab": {
          "base_uri": "https://localhost:8080/"
        },
        "id": "0Sv6XXV5prnh",
        "outputId": "5cff10e0-b4a4-4279-c88e-348c90485b16"
      },
      "execution_count": 80,
      "outputs": [
        {
          "output_type": "execute_result",
          "data": {
            "text/plain": [
              "array([-1, -1, -1, ...,  1,  1, -1])"
            ]
          },
          "metadata": {},
          "execution_count": 80
        }
      ]
    },
    {
      "cell_type": "markdown",
      "source": [
        "#### Illustrate the diagnostic ability of this binary classifier by plotting the ROC curve"
      ],
      "metadata": {
        "id": "Q1pqX67FbPgv"
      }
    },
    {
      "cell_type": "code",
      "source": [
        "from sklearn.metrics import confusion_matrix\n",
        "cnf_matrix=confusion_matrix(y_test, y_pred)\n",
        "cnf_matrix"
      ],
      "metadata": {
        "colab": {
          "base_uri": "https://localhost:8080/"
        },
        "id": "dijaRNHuqHlO",
        "outputId": "171ba9e8-c198-40cb-beab-7d6a536d651a"
      },
      "execution_count": 81,
      "outputs": [
        {
          "output_type": "execute_result",
          "data": {
            "text/plain": [
              "array([[1094,   89],\n",
              "       [  59, 1522]])"
            ]
          },
          "metadata": {},
          "execution_count": 81
        }
      ]
    },
    {
      "cell_type": "code",
      "source": [
        "TN, FP, FN, TP = confusion_matrix(y_test, y_pred).ravel() \n",
        "TN, FP, FN, TP"
      ],
      "metadata": {
        "colab": {
          "base_uri": "https://localhost:8080/"
        },
        "id": "sO47tJL5qJo5",
        "outputId": "9394e167-532d-465c-dd28-b846567b19ce"
      },
      "execution_count": 82,
      "outputs": [
        {
          "output_type": "execute_result",
          "data": {
            "text/plain": [
              "(1094, 89, 59, 1522)"
            ]
          },
          "metadata": {},
          "execution_count": 82
        }
      ]
    },
    {
      "cell_type": "code",
      "source": [
        "Sensitivity = TP/(TP+FN)\n",
        "Sensitivity"
      ],
      "metadata": {
        "colab": {
          "base_uri": "https://localhost:8080/"
        },
        "id": "1La-JGlOqZW3",
        "outputId": "739313c6-e685-4d0d-eec3-2393d154b16a"
      },
      "execution_count": 83,
      "outputs": [
        {
          "output_type": "execute_result",
          "data": {
            "text/plain": [
              "0.9626818469323213"
            ]
          },
          "metadata": {},
          "execution_count": 83
        }
      ]
    },
    {
      "cell_type": "code",
      "source": [
        "from sklearn.metrics import roc_auc_score\n",
        "roc_auc_score(y_test, y_pred)"
      ],
      "metadata": {
        "colab": {
          "base_uri": "https://localhost:8080/"
        },
        "id": "UK5G8tM6qqcZ",
        "outputId": "f2fd9649-5637-4ced-e92d-cc92d31260cd"
      },
      "execution_count": 85,
      "outputs": [
        {
          "output_type": "execute_result",
          "data": {
            "text/plain": [
              "0.9437246935422385"
            ]
          },
          "metadata": {},
          "execution_count": 85
        }
      ]
    },
    {
      "cell_type": "markdown",
      "source": [
        "#### Validate the accuracy of data by the K-Fold cross-validation technique"
      ],
      "metadata": {
        "id": "wB5-uwZRbYTX"
      }
    },
    {
      "cell_type": "code",
      "source": [
        "from sklearn.model_selection import cross_val_score\n",
        "from sklearn.pipeline import make_pipeline\n",
        "from sklearn.preprocessing import StandardScaler\n",
        "from sklearn.ensemble import RandomForestClassifier\n",
        "\n",
        "pipeline = make_pipeline(StandardScaler(), RandomForestClassifier(n_estimators=100, max_depth=4))\n",
        "\n",
        "scores = cross_val_score(pipeline, X=X_train, y=y_train, cv=10, n_jobs=1)\n",
        " \n",
        "print('Cross Validation accuracy scores: %s' % scores)\n",
        " \n",
        "print('Cross Validation accuracy: %.3f +/- %.3f' % (np.mean(scores),np.std(scores)))"
      ],
      "metadata": {
        "colab": {
          "base_uri": "https://localhost:8080/"
        },
        "id": "1db831BCsFb2",
        "outputId": "2860bef5-35ac-4481-cc6f-7cea0a9116b4"
      },
      "execution_count": 90,
      "outputs": [
        {
          "output_type": "stream",
          "name": "stdout",
          "text": [
            "Cross Validation accuracy scores: [0.87831325 0.88661037 0.88057901 0.86369119 0.89143546 0.87937274\n",
            " 0.87816647 0.90108565 0.89626055 0.87575392]\n",
            "Cross Validation accuracy: 0.883 +/- 0.010\n"
          ]
        }
      ]
    }
  ]
}